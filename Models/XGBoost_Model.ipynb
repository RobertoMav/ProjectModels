{
 "cells": [
  {
   "cell_type": "markdown",
   "id": "ec29bd8a",
   "metadata": {},
   "source": [
    "# XGBoost Model"
   ]
  },
  {
   "cell_type": "code",
   "execution_count": 1,
   "id": "348cfc80",
   "metadata": {},
   "outputs": [],
   "source": [
    "import pandas as pd\n",
    "import numpy as np\n",
    "import matplotlib.pyplot as plt\n",
    "import seaborn as sns\n",
    "import math\n",
    "%matplotlib inline"
   ]
  },
  {
   "cell_type": "code",
   "execution_count": 2,
   "id": "ec6c61fc",
   "metadata": {},
   "outputs": [],
   "source": [
    "from sklearn.linear_model import LogisticRegression \n",
    "from sklearn.model_selection import train_test_split\n",
    "from sklearn.metrics import classification_report, confusion_matrix\n",
    "from sklearn.preprocessing import StandardScaler"
   ]
  },
  {
   "cell_type": "code",
   "execution_count": 3,
   "id": "ffe37b7b",
   "metadata": {},
   "outputs": [],
   "source": [
    "import xgboost as xgb\n",
    "from sklearn.metrics import accuracy_score\n",
    "from sklearn.model_selection import GridSearchCV"
   ]
  },
  {
   "cell_type": "code",
   "execution_count": 4,
   "id": "92b2e7da",
   "metadata": {},
   "outputs": [],
   "source": [
    "import tensorflow as tf\n",
    "from tensorflow.keras.models import Sequential\n",
    "from tensorflow.keras.layers import Dense, Activation,Dropout\n",
    "from tensorflow.keras.losses import BinaryCrossentropy\n",
    "from tensorflow.keras.models import load_model\n",
    "from tensorflow.keras.callbacks import EarlyStopping"
   ]
  },
  {
   "cell_type": "code",
   "execution_count": 5,
   "id": "b604d9c0",
   "metadata": {},
   "outputs": [],
   "source": [
    "def NN_pred(yhat):\n",
    "    if yhat >= 0.5:\n",
    "        return 1\n",
    "    else:\n",
    "        return 0"
   ]
  },
  {
   "cell_type": "code",
   "execution_count": 6,
   "id": "74244782",
   "metadata": {},
   "outputs": [],
   "source": [
    "def eval_err(y, yhat):\n",
    "    m = y.shape[0]\n",
    "    incorrect = 0\n",
    "    y = y.tolist()\n",
    "    for i in range(m):\n",
    "        if yhat[i] != y[i]:\n",
    "            incorrect += 1\n",
    "            \n",
    "    incorrect = incorrect / m\n",
    "    \n",
    "    return incorrect "
   ]
  },
  {
   "cell_type": "code",
   "execution_count": 7,
   "id": "1456bcec",
   "metadata": {},
   "outputs": [],
   "source": [
    "def pred_output(prediction):\n",
    "    ex = prediction.shape[0]\n",
    "    output = []\n",
    "    for i in range(ex):\n",
    "        output.append(NN_pred(prediction[i]))\n",
    "    \n",
    "    return output"
   ]
  },
  {
   "cell_type": "code",
   "execution_count": 8,
   "id": "52f4dcdd",
   "metadata": {},
   "outputs": [],
   "source": [
    "def sigmoid(z):\n",
    "\n",
    "    calc = math.e**-z\n",
    "    g = 1 / (1 + calc)\n",
    "\n",
    "    return g"
   ]
  },
  {
   "cell_type": "markdown",
   "id": "a8f064a1",
   "metadata": {},
   "source": [
    "### Training Set 1 as set"
   ]
  },
  {
   "cell_type": "code",
   "execution_count": 2,
   "id": "c48d28ef",
   "metadata": {
    "scrolled": false
   },
   "outputs": [
    {
     "data": {
      "text/html": [
       "<div>\n",
       "<style scoped>\n",
       "    .dataframe tbody tr th:only-of-type {\n",
       "        vertical-align: middle;\n",
       "    }\n",
       "\n",
       "    .dataframe tbody tr th {\n",
       "        vertical-align: top;\n",
       "    }\n",
       "\n",
       "    .dataframe thead th {\n",
       "        text-align: right;\n",
       "    }\n",
       "</style>\n",
       "<table border=\"1\" class=\"dataframe\">\n",
       "  <thead>\n",
       "    <tr style=\"text-align: right;\">\n",
       "      <th></th>\n",
       "      <th>Survived</th>\n",
       "      <th>Pclass</th>\n",
       "      <th>Sex</th>\n",
       "      <th>Age</th>\n",
       "      <th>SibSp</th>\n",
       "      <th>Parch</th>\n",
       "      <th>Fare</th>\n",
       "      <th>Q</th>\n",
       "      <th>S</th>\n",
       "      <th>AgeFare</th>\n",
       "      <th>SibPar</th>\n",
       "    </tr>\n",
       "  </thead>\n",
       "  <tbody>\n",
       "    <tr>\n",
       "      <th>0</th>\n",
       "      <td>0</td>\n",
       "      <td>3</td>\n",
       "      <td>1</td>\n",
       "      <td>22.0</td>\n",
       "      <td>1</td>\n",
       "      <td>0</td>\n",
       "      <td>7.2500</td>\n",
       "      <td>0</td>\n",
       "      <td>1</td>\n",
       "      <td>159.5000</td>\n",
       "      <td>1</td>\n",
       "    </tr>\n",
       "    <tr>\n",
       "      <th>1</th>\n",
       "      <td>1</td>\n",
       "      <td>1</td>\n",
       "      <td>0</td>\n",
       "      <td>38.0</td>\n",
       "      <td>1</td>\n",
       "      <td>0</td>\n",
       "      <td>71.2833</td>\n",
       "      <td>0</td>\n",
       "      <td>0</td>\n",
       "      <td>2708.7654</td>\n",
       "      <td>1</td>\n",
       "    </tr>\n",
       "    <tr>\n",
       "      <th>2</th>\n",
       "      <td>1</td>\n",
       "      <td>3</td>\n",
       "      <td>0</td>\n",
       "      <td>26.0</td>\n",
       "      <td>0</td>\n",
       "      <td>0</td>\n",
       "      <td>7.9250</td>\n",
       "      <td>0</td>\n",
       "      <td>1</td>\n",
       "      <td>206.0500</td>\n",
       "      <td>0</td>\n",
       "    </tr>\n",
       "    <tr>\n",
       "      <th>3</th>\n",
       "      <td>1</td>\n",
       "      <td>1</td>\n",
       "      <td>0</td>\n",
       "      <td>35.0</td>\n",
       "      <td>1</td>\n",
       "      <td>0</td>\n",
       "      <td>53.1000</td>\n",
       "      <td>0</td>\n",
       "      <td>1</td>\n",
       "      <td>1858.5000</td>\n",
       "      <td>1</td>\n",
       "    </tr>\n",
       "    <tr>\n",
       "      <th>4</th>\n",
       "      <td>0</td>\n",
       "      <td>3</td>\n",
       "      <td>1</td>\n",
       "      <td>35.0</td>\n",
       "      <td>0</td>\n",
       "      <td>0</td>\n",
       "      <td>8.0500</td>\n",
       "      <td>0</td>\n",
       "      <td>1</td>\n",
       "      <td>281.7500</td>\n",
       "      <td>0</td>\n",
       "    </tr>\n",
       "  </tbody>\n",
       "</table>\n",
       "</div>"
      ],
      "text/plain": [
       "   Survived  Pclass  Sex   Age  SibSp  Parch     Fare  Q  S    AgeFare  SibPar\n",
       "0         0       3    1  22.0      1      0   7.2500  0  1   159.5000       1\n",
       "1         1       1    0  38.0      1      0  71.2833  0  0  2708.7654       1\n",
       "2         1       3    0  26.0      0      0   7.9250  0  1   206.0500       0\n",
       "3         1       1    0  35.0      1      0  53.1000  0  1  1858.5000       1\n",
       "4         0       3    1  35.0      0      0   8.0500  0  1   281.7500       0"
      ]
     },
     "execution_count": 2,
     "metadata": {},
     "output_type": "execute_result"
    }
   ],
   "source": [
    "train_set = pd.read_csv(\"../TrainTestSet/TrainSet1.csv\")\n",
    "train_set.head()"
   ]
  },
  {
   "cell_type": "markdown",
   "id": "e38b1781",
   "metadata": {},
   "source": [
    "### Creating x_train, y_train set"
   ]
  },
  {
   "cell_type": "code",
   "execution_count": 10,
   "id": "1ec5c8e1",
   "metadata": {},
   "outputs": [],
   "source": [
    "y = train_set['Survived']\n",
    "x = train_set.drop(['Survived'], axis=1)"
   ]
  },
  {
   "cell_type": "code",
   "execution_count": 11,
   "id": "e42fc025",
   "metadata": {},
   "outputs": [],
   "source": [
    "X_train, X_test, y_train, y_test = train_test_split(x, y, test_size=0.2, random_state=101)"
   ]
  },
  {
   "cell_type": "code",
   "execution_count": 12,
   "id": "af203c9d",
   "metadata": {},
   "outputs": [],
   "source": [
    "X_train = X_train.to_numpy()\n",
    "y_train = y_train.to_numpy()"
   ]
  },
  {
   "cell_type": "markdown",
   "id": "6f66b069",
   "metadata": {},
   "source": [
    "#### Scaling dataset"
   ]
  },
  {
   "cell_type": "code",
   "execution_count": 13,
   "id": "efd565bf",
   "metadata": {},
   "outputs": [],
   "source": [
    "scaler = StandardScaler()\n",
    "X_train = scaler.fit_transform(X_train, y_train)\n",
    "X_test = scaler.fit_transform(X_test, y_test)"
   ]
  },
  {
   "cell_type": "markdown",
   "id": "9a27bcce",
   "metadata": {},
   "source": [
    "### Creating and fitting the model on the training set 1"
   ]
  },
  {
   "cell_type": "code",
   "execution_count": 14,
   "id": "afeb0f3d",
   "metadata": {},
   "outputs": [],
   "source": [
    "xgb_model = xgb.XGBClassifier()\n",
    "xgb_model.fit(X_train, y_train)\n",
    "pred_xgb_model = xgb_model.predict(X_test)\n",
    "pred_xgb_model_train = xgb_model.predict(X_train)"
   ]
  },
  {
   "cell_type": "markdown",
   "id": "a234e4b1",
   "metadata": {},
   "source": [
    "### Model train set 1 Results"
   ]
  },
  {
   "cell_type": "code",
   "execution_count": 15,
   "id": "75e31ea2",
   "metadata": {},
   "outputs": [
    {
     "name": "stdout",
     "output_type": "stream",
     "text": [
      "Test Accuracy: 78.089888\n",
      "Train Accuracy: 98.171589\n"
     ]
    }
   ],
   "source": [
    "print('Test Accuracy: %f'%(np.mean(pred_xgb_model == y_test) * 100))\n",
    "print('Train Accuracy: %f'%(np.mean(pred_xgb_model_train == y_train) * 100))"
   ]
  },
  {
   "cell_type": "code",
   "execution_count": 16,
   "id": "30c6beca",
   "metadata": {},
   "outputs": [
    {
     "name": "stdout",
     "output_type": "stream",
     "text": [
      "error test:  0.219\n",
      "error train: 0.018\n"
     ]
    }
   ],
   "source": [
    "error_test = eval_err(y_test, pred_xgb_model)\n",
    "error_train = eval_err(y_train, pred_xgb_model_train)\n",
    "print(f\"error test:  {error_test :0.3f}\")\n",
    "print(f\"error train: {error_train :0.3f}\")"
   ]
  },
  {
   "cell_type": "code",
   "execution_count": 17,
   "id": "c4f507b0",
   "metadata": {},
   "outputs": [
    {
     "name": "stdout",
     "output_type": "stream",
     "text": [
      "              precision    recall  f1-score   support\n",
      "\n",
      "           0       0.81      0.83      0.82       107\n",
      "           1       0.74      0.70      0.72        71\n",
      "\n",
      "    accuracy                           0.78       178\n",
      "   macro avg       0.77      0.77      0.77       178\n",
      "weighted avg       0.78      0.78      0.78       178\n",
      "\n",
      "[[89 18]\n",
      " [21 50]]\n"
     ]
    }
   ],
   "source": [
    "print(classification_report(y_test, pred_xgb_model))\n",
    "print(confusion_matrix(y_test, pred_xgb_model))"
   ]
  },
  {
   "cell_type": "markdown",
   "id": "712e4483",
   "metadata": {},
   "source": [
    "### Using GridSearch to improve model (currently overfitting)"
   ]
  },
  {
   "cell_type": "code",
   "execution_count": 18,
   "id": "7cf0158d",
   "metadata": {},
   "outputs": [
    {
     "data": {
      "text/plain": [
       "{'objective': 'binary:logistic',\n",
       " 'use_label_encoder': False,\n",
       " 'base_score': 0.5,\n",
       " 'booster': 'gbtree',\n",
       " 'callbacks': None,\n",
       " 'colsample_bylevel': 1,\n",
       " 'colsample_bynode': 1,\n",
       " 'colsample_bytree': 1,\n",
       " 'early_stopping_rounds': None,\n",
       " 'enable_categorical': False,\n",
       " 'eval_metric': None,\n",
       " 'gamma': 0,\n",
       " 'gpu_id': -1,\n",
       " 'grow_policy': 'depthwise',\n",
       " 'importance_type': None,\n",
       " 'interaction_constraints': '',\n",
       " 'learning_rate': 0.300000012,\n",
       " 'max_bin': 256,\n",
       " 'max_cat_to_onehot': 4,\n",
       " 'max_delta_step': 0,\n",
       " 'max_depth': 6,\n",
       " 'max_leaves': 0,\n",
       " 'min_child_weight': 1,\n",
       " 'missing': nan,\n",
       " 'monotone_constraints': '()',\n",
       " 'n_estimators': 100,\n",
       " 'n_jobs': 0,\n",
       " 'num_parallel_tree': 1,\n",
       " 'predictor': 'auto',\n",
       " 'random_state': 0,\n",
       " 'reg_alpha': 0,\n",
       " 'reg_lambda': 1,\n",
       " 'sampling_method': 'uniform',\n",
       " 'scale_pos_weight': 1,\n",
       " 'subsample': 1,\n",
       " 'tree_method': 'exact',\n",
       " 'validate_parameters': 1,\n",
       " 'verbosity': None}"
      ]
     },
     "execution_count": 18,
     "metadata": {},
     "output_type": "execute_result"
    }
   ],
   "source": [
    "xgb_model.get_params()"
   ]
  },
  {
   "cell_type": "markdown",
   "id": "b73afdf6",
   "metadata": {},
   "source": [
    "### Parameters Grid"
   ]
  },
  {
   "cell_type": "code",
   "execution_count": 19,
   "id": "049638e0",
   "metadata": {},
   "outputs": [],
   "source": [
    "param_grid = {\n",
    "    \"max_depth\": [3, 6, 9],\n",
    "    \"learning_rate\": [0.1, 0.3, 0.5, 1],\n",
    "    \"gamma\": [0, 0.01, 0.05],\n",
    "    \"reg_lambda\": [0.5, 1, 5, 10],\n",
    "    \"scale_pos_weight\": [0.5, 1, 5],\n",
    "    \"subsample\": [0.8, 1, 1.2],\n",
    "    \"colsample_bytree\": [0.5, 1, 2]\n",
    "}"
   ]
  },
  {
   "cell_type": "code",
   "execution_count": 20,
   "id": "5ac1e298",
   "metadata": {},
   "outputs": [],
   "source": [
    "grid_cv = GridSearchCV(xgb_model, param_grid, n_jobs=-1, cv=3, scoring='roc_auc')"
   ]
  },
  {
   "cell_type": "markdown",
   "id": "b3efab5d",
   "metadata": {},
   "source": [
    "### Fitting data to parameterized model"
   ]
  },
  {
   "cell_type": "code",
   "execution_count": 21,
   "id": "6197cd67",
   "metadata": {
    "scrolled": true
   },
   "outputs": [
    {
     "name": "stderr",
     "output_type": "stream",
     "text": [
      "C:\\Users\\Roberto\\anaconda3\\lib\\site-packages\\sklearn\\model_selection\\_search.py:922: UserWarning: One or more of the test scores are non-finite: [0.84891569 0.85293095        nan ...        nan        nan        nan]\n",
      "  warnings.warn(\n"
     ]
    },
    {
     "data": {
      "text/plain": [
       "GridSearchCV(cv=3,\n",
       "             estimator=XGBClassifier(base_score=0.5, booster='gbtree',\n",
       "                                     callbacks=None, colsample_bylevel=1,\n",
       "                                     colsample_bynode=1, colsample_bytree=1,\n",
       "                                     early_stopping_rounds=None,\n",
       "                                     enable_categorical=False, eval_metric=None,\n",
       "                                     gamma=0, gpu_id=-1,\n",
       "                                     grow_policy='depthwise',\n",
       "                                     importance_type=None,\n",
       "                                     interaction_constraints='',\n",
       "                                     learning_rate=0.300000012, max_bin=256,\n",
       "                                     max_ca...\n",
       "                                     monotone_constraints='()',\n",
       "                                     n_estimators=100, n_jobs=0,\n",
       "                                     num_parallel_tree=1, predictor='auto',\n",
       "                                     random_state=0, reg_alpha=0, reg_lambda=1, ...),\n",
       "             n_jobs=-1,\n",
       "             param_grid={'colsample_bytree': [0.5, 1, 2],\n",
       "                         'gamma': [0, 0.01, 0.05],\n",
       "                         'learning_rate': [0.1, 0.3, 0.5, 1],\n",
       "                         'max_depth': [3, 6, 9], 'reg_lambda': [0.5, 1, 5, 10],\n",
       "                         'scale_pos_weight': [0.5, 1, 5],\n",
       "                         'subsample': [0.8, 1, 1.2]},\n",
       "             scoring='roc_auc')"
      ]
     },
     "execution_count": 21,
     "metadata": {},
     "output_type": "execute_result"
    }
   ],
   "source": [
    "grid_cv.fit(X_train, y_train)"
   ]
  },
  {
   "cell_type": "code",
   "execution_count": 22,
   "id": "2875deaf",
   "metadata": {},
   "outputs": [
    {
     "data": {
      "text/plain": [
       "0.8663460257628263"
      ]
     },
     "execution_count": 22,
     "metadata": {},
     "output_type": "execute_result"
    }
   ],
   "source": [
    "grid_cv.best_score_"
   ]
  },
  {
   "cell_type": "code",
   "execution_count": 23,
   "id": "756ff49d",
   "metadata": {},
   "outputs": [
    {
     "data": {
      "text/plain": [
       "{'colsample_bytree': 1,\n",
       " 'gamma': 0.01,\n",
       " 'learning_rate': 0.1,\n",
       " 'max_depth': 9,\n",
       " 'reg_lambda': 10,\n",
       " 'scale_pos_weight': 0.5,\n",
       " 'subsample': 0.8}"
      ]
     },
     "execution_count": 23,
     "metadata": {},
     "output_type": "execute_result"
    }
   ],
   "source": [
    "grid_cv.best_params_"
   ]
  },
  {
   "cell_type": "markdown",
   "id": "01ec3fe3",
   "metadata": {},
   "source": [
    "### Fitting model with new parameters"
   ]
  },
  {
   "cell_type": "code",
   "execution_count": 24,
   "id": "42e650e4",
   "metadata": {},
   "outputs": [],
   "source": [
    "final_model_XGB = xgb.XGBClassifier(**grid_cv.best_params_, objective=\"binary:logistic\")"
   ]
  },
  {
   "cell_type": "code",
   "execution_count": 25,
   "id": "bfc74539",
   "metadata": {},
   "outputs": [
    {
     "data": {
      "text/plain": [
       "XGBClassifier(base_score=0.5, booster='gbtree', callbacks=None,\n",
       "              colsample_bylevel=1, colsample_bynode=1, colsample_bytree=1,\n",
       "              early_stopping_rounds=None, enable_categorical=False,\n",
       "              eval_metric=None, gamma=0.01, gpu_id=-1, grow_policy='depthwise',\n",
       "              importance_type=None, interaction_constraints='',\n",
       "              learning_rate=0.1, max_bin=256, max_cat_to_onehot=4,\n",
       "              max_delta_step=0, max_depth=9, max_leaves=0, min_child_weight=1,\n",
       "              missing=nan, monotone_constraints='()', n_estimators=100,\n",
       "              n_jobs=0, num_parallel_tree=1, predictor='auto', random_state=0,\n",
       "              reg_alpha=0, reg_lambda=10, ...)"
      ]
     },
     "execution_count": 25,
     "metadata": {},
     "output_type": "execute_result"
    }
   ],
   "source": [
    "final_model_XGB.fit(X_train, y_train)"
   ]
  },
  {
   "cell_type": "code",
   "execution_count": 26,
   "id": "e3574397",
   "metadata": {},
   "outputs": [],
   "source": [
    "pred_xg_test = final_model_XGB.predict(X_test)\n",
    "pred_xg_train = final_model_XGB.predict(X_train)"
   ]
  },
  {
   "cell_type": "markdown",
   "id": "a9f512f7",
   "metadata": {},
   "source": [
    "## XGBoost model Results"
   ]
  },
  {
   "cell_type": "code",
   "execution_count": 27,
   "id": "5ae197a8",
   "metadata": {},
   "outputs": [
    {
     "name": "stdout",
     "output_type": "stream",
     "text": [
      "error test:  0.174\n",
      "error train: 0.142\n"
     ]
    }
   ],
   "source": [
    "error_test = eval_err(y_test, pred_xg_test)\n",
    "error_train = eval_err(y_train, pred_xg_train)\n",
    "print(f\"error test:  {error_test :0.3f}\")\n",
    "print(f\"error train: {error_train :0.3f}\")"
   ]
  },
  {
   "cell_type": "code",
   "execution_count": 41,
   "id": "6beec355",
   "metadata": {
    "scrolled": true
   },
   "outputs": [
    {
     "name": "stdout",
     "output_type": "stream",
     "text": [
      "Train Accuracy: 85.794655\n",
      "Test Accuracy: 82.584270\n"
     ]
    }
   ],
   "source": [
    "print('Train Accuracy: %f'%(np.mean(pred_xg_train == y_train) * 100))\n",
    "print('Test Accuracy: %f'%(np.mean(pred_xg_test == y_test) * 100))"
   ]
  },
  {
   "cell_type": "code",
   "execution_count": 42,
   "id": "9e2a76ae",
   "metadata": {},
   "outputs": [
    {
     "name": "stdout",
     "output_type": "stream",
     "text": [
      "              precision    recall  f1-score   support\n",
      "\n",
      "           0       0.79      0.97      0.87       107\n",
      "           1       0.93      0.61      0.74        71\n",
      "\n",
      "    accuracy                           0.83       178\n",
      "   macro avg       0.86      0.79      0.80       178\n",
      "weighted avg       0.85      0.83      0.82       178\n",
      "\n",
      "[[104   3]\n",
      " [ 28  43]]\n"
     ]
    }
   ],
   "source": [
    "print(classification_report(y_test, pred_xg_test))\n",
    "print(confusion_matrix(y_test, pred_xg_test))"
   ]
  }
 ],
 "metadata": {
  "kernelspec": {
   "display_name": "Python 3 (ipykernel)",
   "language": "python",
   "name": "python3"
  },
  "language_info": {
   "codemirror_mode": {
    "name": "ipython",
    "version": 3
   },
   "file_extension": ".py",
   "mimetype": "text/x-python",
   "name": "python",
   "nbconvert_exporter": "python",
   "pygments_lexer": "ipython3",
   "version": "3.9.7"
  }
 },
 "nbformat": 4,
 "nbformat_minor": 5
}
