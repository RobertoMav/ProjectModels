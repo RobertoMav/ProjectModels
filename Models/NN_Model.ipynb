{
 "cells": [
  {
   "cell_type": "markdown",
   "id": "ec29bd8a",
   "metadata": {},
   "source": [
    "# NN Model"
   ]
  },
  {
   "cell_type": "code",
   "execution_count": 1,
   "id": "348cfc80",
   "metadata": {},
   "outputs": [],
   "source": [
    "import pandas as pd\n",
    "import numpy as np\n",
    "import matplotlib.pyplot as plt\n",
    "import seaborn as sns\n",
    "import math\n",
    "%matplotlib inline"
   ]
  },
  {
   "cell_type": "code",
   "execution_count": 2,
   "id": "ec6c61fc",
   "metadata": {},
   "outputs": [],
   "source": [
    "from sklearn.linear_model import LogisticRegression \n",
    "from sklearn.model_selection import train_test_split\n",
    "from sklearn.metrics import classification_report, confusion_matrix\n",
    "from sklearn.preprocessing import StandardScaler"
   ]
  },
  {
   "cell_type": "code",
   "execution_count": 3,
   "id": "92b2e7da",
   "metadata": {},
   "outputs": [],
   "source": [
    "import tensorflow as tf\n",
    "from tensorflow.keras.models import Sequential\n",
    "from tensorflow.keras.layers import Dense, Activation,Dropout\n",
    "from tensorflow.keras.losses import BinaryCrossentropy\n",
    "from tensorflow.keras.models import load_model\n",
    "from tensorflow.keras.callbacks import EarlyStopping"
   ]
  },
  {
   "cell_type": "code",
   "execution_count": 4,
   "id": "7b9c3a0f",
   "metadata": {},
   "outputs": [],
   "source": [
    "import Functions_Modularity as fm"
   ]
  },
  {
   "cell_type": "code",
   "execution_count": 5,
   "id": "c48d28ef",
   "metadata": {
    "scrolled": false
   },
   "outputs": [
    {
     "data": {
      "text/html": [
       "<div>\n",
       "<style scoped>\n",
       "    .dataframe tbody tr th:only-of-type {\n",
       "        vertical-align: middle;\n",
       "    }\n",
       "\n",
       "    .dataframe tbody tr th {\n",
       "        vertical-align: top;\n",
       "    }\n",
       "\n",
       "    .dataframe thead th {\n",
       "        text-align: right;\n",
       "    }\n",
       "</style>\n",
       "<table border=\"1\" class=\"dataframe\">\n",
       "  <thead>\n",
       "    <tr style=\"text-align: right;\">\n",
       "      <th></th>\n",
       "      <th>Survived</th>\n",
       "      <th>Pclass</th>\n",
       "      <th>Sex</th>\n",
       "      <th>Age</th>\n",
       "      <th>SibSp</th>\n",
       "      <th>Parch</th>\n",
       "      <th>Fare</th>\n",
       "      <th>Q</th>\n",
       "      <th>S</th>\n",
       "      <th>AgeFare</th>\n",
       "      <th>SibPar</th>\n",
       "    </tr>\n",
       "  </thead>\n",
       "  <tbody>\n",
       "    <tr>\n",
       "      <th>0</th>\n",
       "      <td>0</td>\n",
       "      <td>3</td>\n",
       "      <td>1</td>\n",
       "      <td>22.0</td>\n",
       "      <td>1</td>\n",
       "      <td>0</td>\n",
       "      <td>7.2500</td>\n",
       "      <td>0</td>\n",
       "      <td>1</td>\n",
       "      <td>159.5000</td>\n",
       "      <td>1</td>\n",
       "    </tr>\n",
       "    <tr>\n",
       "      <th>1</th>\n",
       "      <td>1</td>\n",
       "      <td>1</td>\n",
       "      <td>0</td>\n",
       "      <td>38.0</td>\n",
       "      <td>1</td>\n",
       "      <td>0</td>\n",
       "      <td>71.2833</td>\n",
       "      <td>0</td>\n",
       "      <td>0</td>\n",
       "      <td>2708.7654</td>\n",
       "      <td>1</td>\n",
       "    </tr>\n",
       "    <tr>\n",
       "      <th>2</th>\n",
       "      <td>1</td>\n",
       "      <td>3</td>\n",
       "      <td>0</td>\n",
       "      <td>26.0</td>\n",
       "      <td>0</td>\n",
       "      <td>0</td>\n",
       "      <td>7.9250</td>\n",
       "      <td>0</td>\n",
       "      <td>1</td>\n",
       "      <td>206.0500</td>\n",
       "      <td>0</td>\n",
       "    </tr>\n",
       "    <tr>\n",
       "      <th>3</th>\n",
       "      <td>1</td>\n",
       "      <td>1</td>\n",
       "      <td>0</td>\n",
       "      <td>35.0</td>\n",
       "      <td>1</td>\n",
       "      <td>0</td>\n",
       "      <td>53.1000</td>\n",
       "      <td>0</td>\n",
       "      <td>1</td>\n",
       "      <td>1858.5000</td>\n",
       "      <td>1</td>\n",
       "    </tr>\n",
       "    <tr>\n",
       "      <th>4</th>\n",
       "      <td>0</td>\n",
       "      <td>3</td>\n",
       "      <td>1</td>\n",
       "      <td>35.0</td>\n",
       "      <td>0</td>\n",
       "      <td>0</td>\n",
       "      <td>8.0500</td>\n",
       "      <td>0</td>\n",
       "      <td>1</td>\n",
       "      <td>281.7500</td>\n",
       "      <td>0</td>\n",
       "    </tr>\n",
       "  </tbody>\n",
       "</table>\n",
       "</div>"
      ],
      "text/plain": [
       "   Survived  Pclass  Sex   Age  SibSp  Parch     Fare  Q  S    AgeFare  SibPar\n",
       "0         0       3    1  22.0      1      0   7.2500  0  1   159.5000       1\n",
       "1         1       1    0  38.0      1      0  71.2833  0  0  2708.7654       1\n",
       "2         1       3    0  26.0      0      0   7.9250  0  1   206.0500       0\n",
       "3         1       1    0  35.0      1      0  53.1000  0  1  1858.5000       1\n",
       "4         0       3    1  35.0      0      0   8.0500  0  1   281.7500       0"
      ]
     },
     "execution_count": 5,
     "metadata": {},
     "output_type": "execute_result"
    }
   ],
   "source": [
    "train_set = pd.read_csv(\"../TrainTestSet/TrainSet1.csv\")\n",
    "train_set.head()"
   ]
  },
  {
   "cell_type": "markdown",
   "id": "e38b1781",
   "metadata": {},
   "source": [
    "### Creating x_train, y_train set"
   ]
  },
  {
   "cell_type": "code",
   "execution_count": 6,
   "id": "1ec5c8e1",
   "metadata": {},
   "outputs": [],
   "source": [
    "y = train_set['Survived']\n",
    "x = train_set.drop(['Survived'], axis=1)"
   ]
  },
  {
   "cell_type": "code",
   "execution_count": 7,
   "id": "e42fc025",
   "metadata": {},
   "outputs": [],
   "source": [
    "X_train, X_test, y_train, y_test = train_test_split(x, y, test_size=0.2, random_state=101)"
   ]
  },
  {
   "cell_type": "code",
   "execution_count": 8,
   "id": "af203c9d",
   "metadata": {},
   "outputs": [],
   "source": [
    "X_train = X_train.to_numpy()\n",
    "y_train = y_train.to_numpy()"
   ]
  },
  {
   "cell_type": "code",
   "execution_count": 9,
   "id": "efd565bf",
   "metadata": {},
   "outputs": [],
   "source": [
    "scaler = StandardScaler()\n",
    "X_train = scaler.fit_transform(X_train, y_train)\n",
    "X_test = scaler.fit_transform(X_test, y_test)"
   ]
  },
  {
   "cell_type": "markdown",
   "id": "95d453d6",
   "metadata": {},
   "source": [
    "### Creating a TF-Keras model"
   ]
  },
  {
   "cell_type": "code",
   "execution_count": 10,
   "id": "77fac65a",
   "metadata": {},
   "outputs": [],
   "source": [
    "#Using the sigmoid activation function to get the best weights and biases for the created model (below)\n",
    "model_NN = Sequential(\n",
    "    [\n",
    "        tf.keras.Input(shape=(10,)),\n",
    "        Dense(units=32, activation='sigmoid'),\n",
    "        Dense(units=16, activation='sigmoid'),\n",
    "        Dense(units=1, activation='sigmoid'),\n",
    "    ], name=\"model_NN\")\n",
    "\n",
    "model_NN.compile(optimizer=tf.keras.optimizers.Adam(0.001), loss=BinaryCrossentropy())"
   ]
  },
  {
   "cell_type": "markdown",
   "id": "aa5b8851",
   "metadata": {},
   "source": [
    "#### Using an early_stop"
   ]
  },
  {
   "cell_type": "code",
   "execution_count": 11,
   "id": "9a63fcd4",
   "metadata": {},
   "outputs": [],
   "source": [
    "early_stop = EarlyStopping(monitor='val_loss', mode='min', patience=25)"
   ]
  },
  {
   "cell_type": "markdown",
   "id": "1b5eca1c",
   "metadata": {},
   "source": [
    "### Fitting "
   ]
  },
  {
   "cell_type": "code",
   "execution_count": 12,
   "id": "1c5e62d8",
   "metadata": {},
   "outputs": [
    {
     "name": "stdout",
     "output_type": "stream",
     "text": [
      "Epoch 1/1000\n",
      "23/23 [==============================] - 0s 9ms/step - loss: 0.6577 - val_loss: 0.6619\n",
      "Epoch 2/1000\n",
      "23/23 [==============================] - 0s 1ms/step - loss: 0.6494 - val_loss: 0.6528\n",
      "Epoch 3/1000\n",
      "23/23 [==============================] - 0s 1ms/step - loss: 0.6414 - val_loss: 0.6425\n",
      "Epoch 4/1000\n",
      "23/23 [==============================] - 0s 1ms/step - loss: 0.6321 - val_loss: 0.6310\n",
      "Epoch 5/1000\n",
      "23/23 [==============================] - 0s 1ms/step - loss: 0.6198 - val_loss: 0.6156\n",
      "Epoch 6/1000\n",
      "23/23 [==============================] - 0s 1ms/step - loss: 0.6060 - val_loss: 0.5997\n",
      "Epoch 7/1000\n",
      "23/23 [==============================] - 0s 1ms/step - loss: 0.5929 - val_loss: 0.5813\n",
      "Epoch 8/1000\n",
      "23/23 [==============================] - 0s 1ms/step - loss: 0.5756 - val_loss: 0.5629\n",
      "Epoch 9/1000\n",
      "23/23 [==============================] - 0s 1ms/step - loss: 0.5609 - val_loss: 0.5445\n",
      "Epoch 10/1000\n",
      "23/23 [==============================] - 0s 1ms/step - loss: 0.5468 - val_loss: 0.5306\n",
      "Epoch 11/1000\n",
      "23/23 [==============================] - 0s 1ms/step - loss: 0.5325 - val_loss: 0.5131\n",
      "Epoch 12/1000\n",
      "23/23 [==============================] - 0s 1ms/step - loss: 0.5197 - val_loss: 0.4996\n",
      "Epoch 13/1000\n",
      "23/23 [==============================] - 0s 1ms/step - loss: 0.5091 - val_loss: 0.4869\n",
      "Epoch 14/1000\n",
      "23/23 [==============================] - 0s 1ms/step - loss: 0.4994 - val_loss: 0.4772\n",
      "Epoch 15/1000\n",
      "23/23 [==============================] - 0s 1ms/step - loss: 0.4907 - val_loss: 0.4660\n",
      "Epoch 16/1000\n",
      "23/23 [==============================] - 0s 1ms/step - loss: 0.4832 - val_loss: 0.4580\n",
      "Epoch 17/1000\n",
      "23/23 [==============================] - 0s 1ms/step - loss: 0.4773 - val_loss: 0.4512\n",
      "Epoch 18/1000\n",
      "23/23 [==============================] - 0s 1ms/step - loss: 0.4720 - val_loss: 0.4464\n",
      "Epoch 19/1000\n",
      "23/23 [==============================] - 0s 1ms/step - loss: 0.4683 - val_loss: 0.4423\n",
      "Epoch 20/1000\n",
      "23/23 [==============================] - 0s 1ms/step - loss: 0.4655 - val_loss: 0.4378\n",
      "Epoch 21/1000\n",
      "23/23 [==============================] - 0s 1ms/step - loss: 0.4627 - val_loss: 0.4339\n",
      "Epoch 22/1000\n",
      "23/23 [==============================] - 0s 1ms/step - loss: 0.4603 - val_loss: 0.4304\n",
      "Epoch 23/1000\n",
      "23/23 [==============================] - 0s 1ms/step - loss: 0.4592 - val_loss: 0.4289\n",
      "Epoch 24/1000\n",
      "23/23 [==============================] - 0s 1ms/step - loss: 0.4582 - val_loss: 0.4271\n",
      "Epoch 25/1000\n",
      "23/23 [==============================] - 0s 1ms/step - loss: 0.4564 - val_loss: 0.4265\n",
      "Epoch 26/1000\n",
      "23/23 [==============================] - 0s 1ms/step - loss: 0.4558 - val_loss: 0.4254\n",
      "Epoch 27/1000\n",
      "23/23 [==============================] - 0s 1ms/step - loss: 0.4549 - val_loss: 0.4254\n",
      "Epoch 28/1000\n",
      "23/23 [==============================] - 0s 1ms/step - loss: 0.4540 - val_loss: 0.4235\n",
      "Epoch 29/1000\n",
      "23/23 [==============================] - 0s 1ms/step - loss: 0.4536 - val_loss: 0.4243\n",
      "Epoch 30/1000\n",
      "23/23 [==============================] - 0s 1ms/step - loss: 0.4526 - val_loss: 0.4219\n",
      "Epoch 31/1000\n",
      "23/23 [==============================] - 0s 1ms/step - loss: 0.4522 - val_loss: 0.4208\n",
      "Epoch 32/1000\n",
      "23/23 [==============================] - 0s 1ms/step - loss: 0.4518 - val_loss: 0.4207\n",
      "Epoch 33/1000\n",
      "23/23 [==============================] - 0s 1ms/step - loss: 0.4517 - val_loss: 0.4205\n",
      "Epoch 34/1000\n",
      "23/23 [==============================] - 0s 1ms/step - loss: 0.4510 - val_loss: 0.4205\n",
      "Epoch 35/1000\n",
      "23/23 [==============================] - 0s 1ms/step - loss: 0.4505 - val_loss: 0.4191\n",
      "Epoch 36/1000\n",
      "23/23 [==============================] - 0s 1ms/step - loss: 0.4503 - val_loss: 0.4186\n",
      "Epoch 37/1000\n",
      "23/23 [==============================] - 0s 1ms/step - loss: 0.4503 - val_loss: 0.4197\n",
      "Epoch 38/1000\n",
      "23/23 [==============================] - 0s 1ms/step - loss: 0.4498 - val_loss: 0.4165\n",
      "Epoch 39/1000\n",
      "23/23 [==============================] - 0s 1ms/step - loss: 0.4493 - val_loss: 0.4162\n",
      "Epoch 40/1000\n",
      "23/23 [==============================] - 0s 1ms/step - loss: 0.4496 - val_loss: 0.4181\n",
      "Epoch 41/1000\n",
      "23/23 [==============================] - 0s 1ms/step - loss: 0.4494 - val_loss: 0.4156\n",
      "Epoch 42/1000\n",
      "23/23 [==============================] - 0s 1ms/step - loss: 0.4482 - val_loss: 0.4178\n",
      "Epoch 43/1000\n",
      "23/23 [==============================] - 0s 1ms/step - loss: 0.4484 - val_loss: 0.4187\n",
      "Epoch 44/1000\n",
      "23/23 [==============================] - 0s 1ms/step - loss: 0.4478 - val_loss: 0.4170\n",
      "Epoch 45/1000\n",
      "23/23 [==============================] - 0s 1ms/step - loss: 0.4472 - val_loss: 0.4154\n",
      "Epoch 46/1000\n",
      "23/23 [==============================] - 0s 1ms/step - loss: 0.4475 - val_loss: 0.4159\n",
      "Epoch 47/1000\n",
      "23/23 [==============================] - 0s 1ms/step - loss: 0.4469 - val_loss: 0.4179\n",
      "Epoch 48/1000\n",
      "23/23 [==============================] - 0s 1ms/step - loss: 0.4467 - val_loss: 0.4147\n",
      "Epoch 49/1000\n",
      "23/23 [==============================] - 0s 1ms/step - loss: 0.4460 - val_loss: 0.4150\n",
      "Epoch 50/1000\n",
      "23/23 [==============================] - 0s 1ms/step - loss: 0.4458 - val_loss: 0.4146\n",
      "Epoch 51/1000\n",
      "23/23 [==============================] - 0s 1ms/step - loss: 0.4459 - val_loss: 0.4166\n",
      "Epoch 52/1000\n",
      "23/23 [==============================] - 0s 1ms/step - loss: 0.4454 - val_loss: 0.4154\n",
      "Epoch 53/1000\n",
      "23/23 [==============================] - 0s 1ms/step - loss: 0.4455 - val_loss: 0.4145\n",
      "Epoch 54/1000\n",
      "23/23 [==============================] - 0s 1ms/step - loss: 0.4450 - val_loss: 0.4144\n",
      "Epoch 55/1000\n",
      "23/23 [==============================] - 0s 1ms/step - loss: 0.4445 - val_loss: 0.4139\n",
      "Epoch 56/1000\n",
      "23/23 [==============================] - 0s 1ms/step - loss: 0.4454 - val_loss: 0.4128\n",
      "Epoch 57/1000\n",
      "23/23 [==============================] - 0s 1ms/step - loss: 0.4442 - val_loss: 0.4136\n",
      "Epoch 58/1000\n",
      "23/23 [==============================] - 0s 1ms/step - loss: 0.4440 - val_loss: 0.4126\n",
      "Epoch 59/1000\n",
      "23/23 [==============================] - 0s 1ms/step - loss: 0.4437 - val_loss: 0.4131\n",
      "Epoch 60/1000\n",
      "23/23 [==============================] - 0s 1ms/step - loss: 0.4433 - val_loss: 0.4130\n",
      "Epoch 61/1000\n",
      "23/23 [==============================] - 0s 1ms/step - loss: 0.4430 - val_loss: 0.4122\n",
      "Epoch 62/1000\n",
      "23/23 [==============================] - 0s 1ms/step - loss: 0.4441 - val_loss: 0.4152\n",
      "Epoch 63/1000\n",
      "23/23 [==============================] - 0s 1ms/step - loss: 0.4437 - val_loss: 0.4122\n",
      "Epoch 64/1000\n",
      "23/23 [==============================] - 0s 1ms/step - loss: 0.4435 - val_loss: 0.4151\n",
      "Epoch 65/1000\n",
      "23/23 [==============================] - 0s 1ms/step - loss: 0.4423 - val_loss: 0.4115\n",
      "Epoch 66/1000\n",
      "23/23 [==============================] - 0s 1ms/step - loss: 0.4418 - val_loss: 0.4126\n",
      "Epoch 67/1000\n",
      "23/23 [==============================] - 0s 1ms/step - loss: 0.4418 - val_loss: 0.4142\n",
      "Epoch 68/1000\n",
      "23/23 [==============================] - 0s 1ms/step - loss: 0.4413 - val_loss: 0.4133\n",
      "Epoch 69/1000\n",
      "23/23 [==============================] - 0s 1ms/step - loss: 0.4411 - val_loss: 0.4122\n",
      "Epoch 70/1000\n",
      "23/23 [==============================] - 0s 1ms/step - loss: 0.4414 - val_loss: 0.4121\n",
      "Epoch 71/1000\n",
      "23/23 [==============================] - 0s 1ms/step - loss: 0.4411 - val_loss: 0.4126\n",
      "Epoch 72/1000\n",
      "23/23 [==============================] - 0s 1ms/step - loss: 0.4405 - val_loss: 0.4139\n",
      "Epoch 73/1000\n",
      "23/23 [==============================] - 0s 1ms/step - loss: 0.4402 - val_loss: 0.4109\n",
      "Epoch 74/1000\n",
      "23/23 [==============================] - 0s 1ms/step - loss: 0.4412 - val_loss: 0.4121\n",
      "Epoch 75/1000\n",
      "23/23 [==============================] - 0s 1ms/step - loss: 0.4400 - val_loss: 0.4103\n",
      "Epoch 76/1000\n",
      "23/23 [==============================] - 0s 1ms/step - loss: 0.4397 - val_loss: 0.4117\n",
      "Epoch 77/1000\n",
      "23/23 [==============================] - 0s 1ms/step - loss: 0.4400 - val_loss: 0.4090\n",
      "Epoch 78/1000\n",
      "23/23 [==============================] - 0s 1ms/step - loss: 0.4396 - val_loss: 0.4122\n",
      "Epoch 79/1000\n",
      "23/23 [==============================] - 0s 1ms/step - loss: 0.4397 - val_loss: 0.4100\n",
      "Epoch 80/1000\n",
      "23/23 [==============================] - 0s 1ms/step - loss: 0.4397 - val_loss: 0.4086\n",
      "Epoch 81/1000\n",
      "23/23 [==============================] - 0s 1ms/step - loss: 0.4392 - val_loss: 0.4113\n",
      "Epoch 82/1000\n"
     ]
    },
    {
     "name": "stdout",
     "output_type": "stream",
     "text": [
      "23/23 [==============================] - 0s 1ms/step - loss: 0.4381 - val_loss: 0.4092\n",
      "Epoch 83/1000\n",
      "23/23 [==============================] - 0s 1ms/step - loss: 0.4386 - val_loss: 0.4095\n",
      "Epoch 84/1000\n",
      "23/23 [==============================] - 0s 1ms/step - loss: 0.4380 - val_loss: 0.4082\n",
      "Epoch 85/1000\n",
      "23/23 [==============================] - 0s 1ms/step - loss: 0.4385 - val_loss: 0.4089\n",
      "Epoch 86/1000\n",
      "23/23 [==============================] - 0s 1ms/step - loss: 0.4373 - val_loss: 0.4102\n",
      "Epoch 87/1000\n",
      "23/23 [==============================] - 0s 1ms/step - loss: 0.4374 - val_loss: 0.4102\n",
      "Epoch 88/1000\n",
      "23/23 [==============================] - 0s 1ms/step - loss: 0.4377 - val_loss: 0.4101\n",
      "Epoch 89/1000\n",
      "23/23 [==============================] - 0s 1ms/step - loss: 0.4375 - val_loss: 0.4093\n",
      "Epoch 90/1000\n",
      "23/23 [==============================] - 0s 1ms/step - loss: 0.4371 - val_loss: 0.4097\n",
      "Epoch 91/1000\n",
      "23/23 [==============================] - 0s 1ms/step - loss: 0.4377 - val_loss: 0.4097\n",
      "Epoch 92/1000\n",
      "23/23 [==============================] - 0s 1ms/step - loss: 0.4366 - val_loss: 0.4083\n",
      "Epoch 93/1000\n",
      "23/23 [==============================] - 0s 1ms/step - loss: 0.4365 - val_loss: 0.4088\n",
      "Epoch 94/1000\n",
      "23/23 [==============================] - 0s 1ms/step - loss: 0.4364 - val_loss: 0.4092\n",
      "Epoch 95/1000\n",
      "23/23 [==============================] - 0s 1ms/step - loss: 0.4364 - val_loss: 0.4077\n",
      "Epoch 96/1000\n",
      "23/23 [==============================] - 0s 1ms/step - loss: 0.4355 - val_loss: 0.4075\n",
      "Epoch 97/1000\n",
      "23/23 [==============================] - 0s 1ms/step - loss: 0.4356 - val_loss: 0.4057\n",
      "Epoch 98/1000\n",
      "23/23 [==============================] - 0s 1ms/step - loss: 0.4351 - val_loss: 0.4089\n",
      "Epoch 99/1000\n",
      "23/23 [==============================] - 0s 1ms/step - loss: 0.4359 - val_loss: 0.4074\n",
      "Epoch 100/1000\n",
      "23/23 [==============================] - 0s 1ms/step - loss: 0.4353 - val_loss: 0.4070\n",
      "Epoch 101/1000\n",
      "23/23 [==============================] - 0s 1ms/step - loss: 0.4354 - val_loss: 0.4057\n",
      "Epoch 102/1000\n",
      "23/23 [==============================] - 0s 1ms/step - loss: 0.4352 - val_loss: 0.4081\n",
      "Epoch 103/1000\n",
      "23/23 [==============================] - 0s 1ms/step - loss: 0.4346 - val_loss: 0.4070\n",
      "Epoch 104/1000\n",
      "23/23 [==============================] - 0s 1ms/step - loss: 0.4347 - val_loss: 0.4054\n",
      "Epoch 105/1000\n",
      "23/23 [==============================] - 0s 1ms/step - loss: 0.4355 - val_loss: 0.4043\n",
      "Epoch 106/1000\n",
      "23/23 [==============================] - 0s 1ms/step - loss: 0.4340 - val_loss: 0.4060\n",
      "Epoch 107/1000\n",
      "23/23 [==============================] - 0s 1ms/step - loss: 0.4338 - val_loss: 0.4073\n",
      "Epoch 108/1000\n",
      "23/23 [==============================] - 0s 1ms/step - loss: 0.4338 - val_loss: 0.4072\n",
      "Epoch 109/1000\n",
      "23/23 [==============================] - 0s 1ms/step - loss: 0.4336 - val_loss: 0.4055\n",
      "Epoch 110/1000\n",
      "23/23 [==============================] - 0s 1ms/step - loss: 0.4339 - val_loss: 0.4051\n",
      "Epoch 111/1000\n",
      "23/23 [==============================] - 0s 1ms/step - loss: 0.4339 - val_loss: 0.4050\n",
      "Epoch 112/1000\n",
      "23/23 [==============================] - 0s 1ms/step - loss: 0.4332 - val_loss: 0.4031\n",
      "Epoch 113/1000\n",
      "23/23 [==============================] - 0s 1ms/step - loss: 0.4330 - val_loss: 0.4047\n",
      "Epoch 114/1000\n",
      "23/23 [==============================] - 0s 1ms/step - loss: 0.4329 - val_loss: 0.4040\n",
      "Epoch 115/1000\n",
      "23/23 [==============================] - 0s 1ms/step - loss: 0.4331 - val_loss: 0.4043\n",
      "Epoch 116/1000\n",
      "23/23 [==============================] - 0s 1ms/step - loss: 0.4339 - val_loss: 0.4037\n",
      "Epoch 117/1000\n",
      "23/23 [==============================] - 0s 1ms/step - loss: 0.4321 - val_loss: 0.4042\n",
      "Epoch 118/1000\n",
      "23/23 [==============================] - 0s 1ms/step - loss: 0.4322 - val_loss: 0.4038\n",
      "Epoch 119/1000\n",
      "23/23 [==============================] - 0s 1ms/step - loss: 0.4326 - val_loss: 0.4028\n",
      "Epoch 120/1000\n",
      "23/23 [==============================] - 0s 1ms/step - loss: 0.4323 - val_loss: 0.4042\n",
      "Epoch 121/1000\n",
      "23/23 [==============================] - 0s 1ms/step - loss: 0.4329 - val_loss: 0.4038\n",
      "Epoch 122/1000\n",
      "23/23 [==============================] - 0s 1ms/step - loss: 0.4327 - val_loss: 0.4021\n",
      "Epoch 123/1000\n",
      "23/23 [==============================] - 0s 1ms/step - loss: 0.4313 - val_loss: 0.4028\n",
      "Epoch 124/1000\n",
      "23/23 [==============================] - 0s 1ms/step - loss: 0.4318 - val_loss: 0.4038\n",
      "Epoch 125/1000\n",
      "23/23 [==============================] - 0s 1ms/step - loss: 0.4313 - val_loss: 0.4013\n",
      "Epoch 126/1000\n",
      "23/23 [==============================] - 0s 1ms/step - loss: 0.4322 - val_loss: 0.4009\n",
      "Epoch 127/1000\n",
      "23/23 [==============================] - 0s 1ms/step - loss: 0.4305 - val_loss: 0.4025\n",
      "Epoch 128/1000\n",
      "23/23 [==============================] - 0s 1ms/step - loss: 0.4309 - val_loss: 0.4024\n",
      "Epoch 129/1000\n",
      "23/23 [==============================] - 0s 1ms/step - loss: 0.4306 - val_loss: 0.4018\n",
      "Epoch 130/1000\n",
      "23/23 [==============================] - 0s 1ms/step - loss: 0.4317 - val_loss: 0.4009\n",
      "Epoch 131/1000\n",
      "23/23 [==============================] - 0s 1ms/step - loss: 0.4310 - val_loss: 0.4035\n",
      "Epoch 132/1000\n",
      "23/23 [==============================] - 0s 1ms/step - loss: 0.4313 - val_loss: 0.4027\n",
      "Epoch 133/1000\n",
      "23/23 [==============================] - 0s 1ms/step - loss: 0.4304 - val_loss: 0.4015\n",
      "Epoch 134/1000\n",
      "23/23 [==============================] - 0s 1ms/step - loss: 0.4305 - val_loss: 0.4012\n",
      "Epoch 135/1000\n",
      "23/23 [==============================] - 0s 1ms/step - loss: 0.4300 - val_loss: 0.4026\n",
      "Epoch 136/1000\n",
      "23/23 [==============================] - 0s 1ms/step - loss: 0.4304 - val_loss: 0.4041\n",
      "Epoch 137/1000\n",
      "23/23 [==============================] - 0s 1ms/step - loss: 0.4295 - val_loss: 0.4010\n",
      "Epoch 138/1000\n",
      "23/23 [==============================] - 0s 1ms/step - loss: 0.4300 - val_loss: 0.3999\n",
      "Epoch 139/1000\n",
      "23/23 [==============================] - 0s 1ms/step - loss: 0.4293 - val_loss: 0.3997\n",
      "Epoch 140/1000\n",
      "23/23 [==============================] - 0s 1ms/step - loss: 0.4297 - val_loss: 0.4006\n",
      "Epoch 141/1000\n",
      "23/23 [==============================] - 0s 1ms/step - loss: 0.4293 - val_loss: 0.3997\n",
      "Epoch 142/1000\n",
      "23/23 [==============================] - 0s 1ms/step - loss: 0.4298 - val_loss: 0.3991\n",
      "Epoch 143/1000\n",
      "23/23 [==============================] - 0s 1ms/step - loss: 0.4286 - val_loss: 0.4007\n",
      "Epoch 144/1000\n",
      "23/23 [==============================] - 0s 1ms/step - loss: 0.4295 - val_loss: 0.4006\n",
      "Epoch 145/1000\n",
      "23/23 [==============================] - 0s 1ms/step - loss: 0.4291 - val_loss: 0.3988\n",
      "Epoch 146/1000\n",
      "23/23 [==============================] - 0s 1ms/step - loss: 0.4288 - val_loss: 0.4014\n",
      "Epoch 147/1000\n",
      "23/23 [==============================] - 0s 1ms/step - loss: 0.4296 - val_loss: 0.4008\n",
      "Epoch 148/1000\n",
      "23/23 [==============================] - 0s 1ms/step - loss: 0.4288 - val_loss: 0.3989\n",
      "Epoch 149/1000\n",
      "23/23 [==============================] - 0s 1ms/step - loss: 0.4285 - val_loss: 0.4014\n",
      "Epoch 150/1000\n",
      "23/23 [==============================] - 0s 1ms/step - loss: 0.4282 - val_loss: 0.3998\n",
      "Epoch 151/1000\n",
      "23/23 [==============================] - 0s 1ms/step - loss: 0.4279 - val_loss: 0.3972\n",
      "Epoch 152/1000\n",
      "23/23 [==============================] - 0s 1ms/step - loss: 0.4282 - val_loss: 0.3974\n",
      "Epoch 153/1000\n",
      "23/23 [==============================] - 0s 1ms/step - loss: 0.4279 - val_loss: 0.3974\n",
      "Epoch 154/1000\n",
      "23/23 [==============================] - 0s 1ms/step - loss: 0.4277 - val_loss: 0.3982\n",
      "Epoch 155/1000\n",
      "23/23 [==============================] - 0s 1ms/step - loss: 0.4274 - val_loss: 0.3974\n",
      "Epoch 156/1000\n",
      "23/23 [==============================] - 0s 1ms/step - loss: 0.4273 - val_loss: 0.3972\n",
      "Epoch 157/1000\n",
      "23/23 [==============================] - 0s 1ms/step - loss: 0.4270 - val_loss: 0.3964\n",
      "Epoch 158/1000\n",
      "23/23 [==============================] - 0s 1ms/step - loss: 0.4273 - val_loss: 0.3965\n",
      "Epoch 159/1000\n",
      "23/23 [==============================] - 0s 1ms/step - loss: 0.4274 - val_loss: 0.3958\n",
      "Epoch 160/1000\n",
      "23/23 [==============================] - 0s 1ms/step - loss: 0.4273 - val_loss: 0.3974\n",
      "Epoch 161/1000\n",
      "23/23 [==============================] - 0s 1ms/step - loss: 0.4268 - val_loss: 0.3958\n",
      "Epoch 162/1000\n"
     ]
    },
    {
     "name": "stdout",
     "output_type": "stream",
     "text": [
      "23/23 [==============================] - 0s 1ms/step - loss: 0.4267 - val_loss: 0.3963\n",
      "Epoch 163/1000\n",
      "23/23 [==============================] - 0s 1ms/step - loss: 0.4266 - val_loss: 0.3979\n",
      "Epoch 164/1000\n",
      "23/23 [==============================] - 0s 1ms/step - loss: 0.4267 - val_loss: 0.3964\n",
      "Epoch 165/1000\n",
      "23/23 [==============================] - 0s 1ms/step - loss: 0.4266 - val_loss: 0.3966\n",
      "Epoch 166/1000\n",
      "23/23 [==============================] - 0s 1ms/step - loss: 0.4260 - val_loss: 0.3953\n",
      "Epoch 167/1000\n",
      "23/23 [==============================] - 0s 1ms/step - loss: 0.4263 - val_loss: 0.3956\n",
      "Epoch 168/1000\n",
      "23/23 [==============================] - 0s 1ms/step - loss: 0.4260 - val_loss: 0.3951\n",
      "Epoch 169/1000\n",
      "23/23 [==============================] - 0s 1ms/step - loss: 0.4259 - val_loss: 0.3949\n",
      "Epoch 170/1000\n",
      "23/23 [==============================] - 0s 1ms/step - loss: 0.4257 - val_loss: 0.3947\n",
      "Epoch 171/1000\n",
      "23/23 [==============================] - 0s 1ms/step - loss: 0.4260 - val_loss: 0.3955\n",
      "Epoch 172/1000\n",
      "23/23 [==============================] - 0s 1ms/step - loss: 0.4258 - val_loss: 0.3936\n",
      "Epoch 173/1000\n",
      "23/23 [==============================] - 0s 1ms/step - loss: 0.4259 - val_loss: 0.3947\n",
      "Epoch 174/1000\n",
      "23/23 [==============================] - 0s 1ms/step - loss: 0.4257 - val_loss: 0.3949\n",
      "Epoch 175/1000\n",
      "23/23 [==============================] - 0s 1ms/step - loss: 0.4254 - val_loss: 0.3953\n",
      "Epoch 176/1000\n",
      "23/23 [==============================] - 0s 1ms/step - loss: 0.4255 - val_loss: 0.3952\n",
      "Epoch 177/1000\n",
      "23/23 [==============================] - 0s 1ms/step - loss: 0.4256 - val_loss: 0.3944\n",
      "Epoch 178/1000\n",
      "23/23 [==============================] - 0s 1ms/step - loss: 0.4252 - val_loss: 0.3946\n",
      "Epoch 179/1000\n",
      "23/23 [==============================] - 0s 1ms/step - loss: 0.4249 - val_loss: 0.3938\n",
      "Epoch 180/1000\n",
      "23/23 [==============================] - 0s 1ms/step - loss: 0.4247 - val_loss: 0.3938\n",
      "Epoch 181/1000\n",
      "23/23 [==============================] - 0s 1ms/step - loss: 0.4244 - val_loss: 0.3943\n",
      "Epoch 182/1000\n",
      "23/23 [==============================] - 0s 1ms/step - loss: 0.4250 - val_loss: 0.3936\n",
      "Epoch 183/1000\n",
      "23/23 [==============================] - 0s 1ms/step - loss: 0.4242 - val_loss: 0.3930\n",
      "Epoch 184/1000\n",
      "23/23 [==============================] - 0s 1ms/step - loss: 0.4244 - val_loss: 0.3923\n",
      "Epoch 185/1000\n",
      "23/23 [==============================] - 0s 1ms/step - loss: 0.4240 - val_loss: 0.3930\n",
      "Epoch 186/1000\n",
      "23/23 [==============================] - 0s 1ms/step - loss: 0.4239 - val_loss: 0.3918\n",
      "Epoch 187/1000\n",
      "23/23 [==============================] - 0s 1ms/step - loss: 0.4241 - val_loss: 0.3920\n",
      "Epoch 188/1000\n",
      "23/23 [==============================] - 0s 1ms/step - loss: 0.4251 - val_loss: 0.3938\n",
      "Epoch 189/1000\n",
      "23/23 [==============================] - 0s 1ms/step - loss: 0.4242 - val_loss: 0.3913\n",
      "Epoch 190/1000\n",
      "23/23 [==============================] - 0s 1ms/step - loss: 0.4237 - val_loss: 0.3899\n",
      "Epoch 191/1000\n",
      "23/23 [==============================] - 0s 1ms/step - loss: 0.4237 - val_loss: 0.3919\n",
      "Epoch 192/1000\n",
      "23/23 [==============================] - 0s 1ms/step - loss: 0.4236 - val_loss: 0.3906\n",
      "Epoch 193/1000\n",
      "23/23 [==============================] - 0s 1ms/step - loss: 0.4233 - val_loss: 0.3922\n",
      "Epoch 194/1000\n",
      "23/23 [==============================] - 0s 1ms/step - loss: 0.4227 - val_loss: 0.3905\n",
      "Epoch 195/1000\n",
      "23/23 [==============================] - 0s 1ms/step - loss: 0.4236 - val_loss: 0.3903\n",
      "Epoch 196/1000\n",
      "23/23 [==============================] - 0s 1ms/step - loss: 0.4234 - val_loss: 0.3922\n",
      "Epoch 197/1000\n",
      "23/23 [==============================] - 0s 1ms/step - loss: 0.4231 - val_loss: 0.3905\n",
      "Epoch 198/1000\n",
      "23/23 [==============================] - 0s 1ms/step - loss: 0.4229 - val_loss: 0.3919\n",
      "Epoch 199/1000\n",
      "23/23 [==============================] - 0s 1ms/step - loss: 0.4227 - val_loss: 0.3897\n",
      "Epoch 200/1000\n",
      "23/23 [==============================] - 0s 1ms/step - loss: 0.4224 - val_loss: 0.3891\n",
      "Epoch 201/1000\n",
      "23/23 [==============================] - 0s 1ms/step - loss: 0.4223 - val_loss: 0.3894\n",
      "Epoch 202/1000\n",
      "23/23 [==============================] - 0s 1ms/step - loss: 0.4228 - val_loss: 0.3895\n",
      "Epoch 203/1000\n",
      "23/23 [==============================] - 0s 1ms/step - loss: 0.4224 - val_loss: 0.3890\n",
      "Epoch 204/1000\n",
      "23/23 [==============================] - 0s 1ms/step - loss: 0.4218 - val_loss: 0.3910\n",
      "Epoch 205/1000\n",
      "23/23 [==============================] - 0s 1ms/step - loss: 0.4221 - val_loss: 0.3906\n",
      "Epoch 206/1000\n",
      "23/23 [==============================] - 0s 1ms/step - loss: 0.4218 - val_loss: 0.3901\n",
      "Epoch 207/1000\n",
      "23/23 [==============================] - 0s 1ms/step - loss: 0.4211 - val_loss: 0.3879\n",
      "Epoch 208/1000\n",
      "23/23 [==============================] - 0s 1ms/step - loss: 0.4218 - val_loss: 0.3890\n",
      "Epoch 209/1000\n",
      "23/23 [==============================] - 0s 1ms/step - loss: 0.4213 - val_loss: 0.3885\n",
      "Epoch 210/1000\n",
      "23/23 [==============================] - 0s 1ms/step - loss: 0.4219 - val_loss: 0.3884\n",
      "Epoch 211/1000\n",
      "23/23 [==============================] - 0s 1ms/step - loss: 0.4218 - val_loss: 0.3888\n",
      "Epoch 212/1000\n",
      "23/23 [==============================] - 0s 1ms/step - loss: 0.4215 - val_loss: 0.3882\n",
      "Epoch 213/1000\n",
      "23/23 [==============================] - 0s 1ms/step - loss: 0.4220 - val_loss: 0.3896\n",
      "Epoch 214/1000\n",
      "23/23 [==============================] - 0s 1ms/step - loss: 0.4210 - val_loss: 0.3873\n",
      "Epoch 215/1000\n",
      "23/23 [==============================] - 0s 1ms/step - loss: 0.4210 - val_loss: 0.3879\n",
      "Epoch 216/1000\n",
      "23/23 [==============================] - 0s 1ms/step - loss: 0.4203 - val_loss: 0.3866\n",
      "Epoch 217/1000\n",
      "23/23 [==============================] - 0s 1ms/step - loss: 0.4204 - val_loss: 0.3875\n",
      "Epoch 218/1000\n",
      "23/23 [==============================] - 0s 1ms/step - loss: 0.4207 - val_loss: 0.3876\n",
      "Epoch 219/1000\n",
      "23/23 [==============================] - 0s 1ms/step - loss: 0.4203 - val_loss: 0.3868\n",
      "Epoch 220/1000\n",
      "23/23 [==============================] - 0s 1ms/step - loss: 0.4200 - val_loss: 0.3887\n",
      "Epoch 221/1000\n",
      "23/23 [==============================] - 0s 1ms/step - loss: 0.4199 - val_loss: 0.3874\n",
      "Epoch 222/1000\n",
      "23/23 [==============================] - 0s 1ms/step - loss: 0.4197 - val_loss: 0.3891\n",
      "Epoch 223/1000\n",
      "23/23 [==============================] - 0s 1ms/step - loss: 0.4198 - val_loss: 0.3867\n",
      "Epoch 224/1000\n",
      "23/23 [==============================] - 0s 1ms/step - loss: 0.4196 - val_loss: 0.3859\n",
      "Epoch 225/1000\n",
      "23/23 [==============================] - 0s 1ms/step - loss: 0.4203 - val_loss: 0.3853\n",
      "Epoch 226/1000\n",
      "23/23 [==============================] - 0s 1ms/step - loss: 0.4195 - val_loss: 0.3849\n",
      "Epoch 227/1000\n",
      "23/23 [==============================] - 0s 1ms/step - loss: 0.4195 - val_loss: 0.3831\n",
      "Epoch 228/1000\n",
      "23/23 [==============================] - 0s 1ms/step - loss: 0.4193 - val_loss: 0.3838\n",
      "Epoch 229/1000\n",
      "23/23 [==============================] - 0s 1ms/step - loss: 0.4189 - val_loss: 0.3835\n",
      "Epoch 230/1000\n",
      "23/23 [==============================] - 0s 1ms/step - loss: 0.4190 - val_loss: 0.3840\n",
      "Epoch 231/1000\n",
      "23/23 [==============================] - 0s 1ms/step - loss: 0.4189 - val_loss: 0.3841\n",
      "Epoch 232/1000\n",
      "23/23 [==============================] - 0s 1ms/step - loss: 0.4181 - val_loss: 0.3860\n",
      "Epoch 233/1000\n",
      "23/23 [==============================] - 0s 1ms/step - loss: 0.4198 - val_loss: 0.3871\n",
      "Epoch 234/1000\n",
      "23/23 [==============================] - 0s 1ms/step - loss: 0.4182 - val_loss: 0.3847\n",
      "Epoch 235/1000\n",
      "23/23 [==============================] - 0s 1ms/step - loss: 0.4181 - val_loss: 0.3851\n",
      "Epoch 236/1000\n",
      "23/23 [==============================] - 0s 1ms/step - loss: 0.4181 - val_loss: 0.3857\n",
      "Epoch 237/1000\n",
      "23/23 [==============================] - 0s 1ms/step - loss: 0.4179 - val_loss: 0.3838\n",
      "Epoch 238/1000\n",
      "23/23 [==============================] - 0s 1ms/step - loss: 0.4176 - val_loss: 0.3855\n",
      "Epoch 239/1000\n",
      "23/23 [==============================] - 0s 1ms/step - loss: 0.4176 - val_loss: 0.3844\n",
      "Epoch 240/1000\n",
      "23/23 [==============================] - 0s 1ms/step - loss: 0.4175 - val_loss: 0.3854\n",
      "Epoch 241/1000\n",
      "23/23 [==============================] - 0s 1ms/step - loss: 0.4173 - val_loss: 0.3835\n",
      "Epoch 242/1000\n"
     ]
    },
    {
     "name": "stdout",
     "output_type": "stream",
     "text": [
      "23/23 [==============================] - 0s 1ms/step - loss: 0.4175 - val_loss: 0.3827\n",
      "Epoch 243/1000\n",
      "23/23 [==============================] - 0s 1ms/step - loss: 0.4179 - val_loss: 0.3841\n",
      "Epoch 244/1000\n",
      "23/23 [==============================] - 0s 1ms/step - loss: 0.4171 - val_loss: 0.3826\n",
      "Epoch 245/1000\n",
      "23/23 [==============================] - 0s 1ms/step - loss: 0.4169 - val_loss: 0.3831\n",
      "Epoch 246/1000\n",
      "23/23 [==============================] - 0s 1ms/step - loss: 0.4174 - val_loss: 0.3839\n",
      "Epoch 247/1000\n",
      "23/23 [==============================] - 0s 1ms/step - loss: 0.4169 - val_loss: 0.3817\n",
      "Epoch 248/1000\n",
      "23/23 [==============================] - 0s 1ms/step - loss: 0.4160 - val_loss: 0.3838\n",
      "Epoch 249/1000\n",
      "23/23 [==============================] - 0s 1ms/step - loss: 0.4168 - val_loss: 0.3848\n",
      "Epoch 250/1000\n",
      "23/23 [==============================] - 0s 1ms/step - loss: 0.4160 - val_loss: 0.3835\n",
      "Epoch 251/1000\n",
      "23/23 [==============================] - 0s 1ms/step - loss: 0.4160 - val_loss: 0.3832\n",
      "Epoch 252/1000\n",
      "23/23 [==============================] - 0s 1ms/step - loss: 0.4158 - val_loss: 0.3823\n",
      "Epoch 253/1000\n",
      "23/23 [==============================] - 0s 1ms/step - loss: 0.4159 - val_loss: 0.3823\n",
      "Epoch 254/1000\n",
      "23/23 [==============================] - 0s 1ms/step - loss: 0.4156 - val_loss: 0.3832\n",
      "Epoch 255/1000\n",
      "23/23 [==============================] - 0s 1ms/step - loss: 0.4160 - val_loss: 0.3826\n",
      "Epoch 256/1000\n",
      "23/23 [==============================] - 0s 1ms/step - loss: 0.4158 - val_loss: 0.3803\n",
      "Epoch 257/1000\n",
      "23/23 [==============================] - 0s 1ms/step - loss: 0.4159 - val_loss: 0.3812\n",
      "Epoch 258/1000\n",
      "23/23 [==============================] - 0s 1ms/step - loss: 0.4152 - val_loss: 0.3809\n",
      "Epoch 259/1000\n",
      "23/23 [==============================] - 0s 1ms/step - loss: 0.4149 - val_loss: 0.3786\n",
      "Epoch 260/1000\n",
      "23/23 [==============================] - 0s 1ms/step - loss: 0.4155 - val_loss: 0.3796\n",
      "Epoch 261/1000\n",
      "23/23 [==============================] - 0s 1ms/step - loss: 0.4163 - val_loss: 0.3788\n",
      "Epoch 262/1000\n",
      "23/23 [==============================] - 0s 1ms/step - loss: 0.4148 - val_loss: 0.3800\n",
      "Epoch 263/1000\n",
      "23/23 [==============================] - 0s 1ms/step - loss: 0.4150 - val_loss: 0.3830\n",
      "Epoch 264/1000\n",
      "23/23 [==============================] - 0s 1ms/step - loss: 0.4146 - val_loss: 0.3837\n",
      "Epoch 265/1000\n",
      "23/23 [==============================] - 0s 1ms/step - loss: 0.4148 - val_loss: 0.3801\n",
      "Epoch 266/1000\n",
      "23/23 [==============================] - 0s 1ms/step - loss: 0.4147 - val_loss: 0.3812\n",
      "Epoch 267/1000\n",
      "23/23 [==============================] - 0s 1ms/step - loss: 0.4139 - val_loss: 0.3814\n",
      "Epoch 268/1000\n",
      "23/23 [==============================] - 0s 1ms/step - loss: 0.4142 - val_loss: 0.3788\n",
      "Epoch 269/1000\n",
      "23/23 [==============================] - 0s 1ms/step - loss: 0.4136 - val_loss: 0.3817\n",
      "Epoch 270/1000\n",
      "23/23 [==============================] - 0s 1ms/step - loss: 0.4135 - val_loss: 0.3810\n",
      "Epoch 271/1000\n",
      "23/23 [==============================] - 0s 1ms/step - loss: 0.4139 - val_loss: 0.3798\n",
      "Epoch 272/1000\n",
      "23/23 [==============================] - 0s 1ms/step - loss: 0.4134 - val_loss: 0.3804\n",
      "Epoch 273/1000\n",
      "23/23 [==============================] - 0s 1ms/step - loss: 0.4135 - val_loss: 0.3794\n",
      "Epoch 274/1000\n",
      "23/23 [==============================] - 0s 1ms/step - loss: 0.4135 - val_loss: 0.3785\n",
      "Epoch 275/1000\n",
      "23/23 [==============================] - 0s 1ms/step - loss: 0.4134 - val_loss: 0.3801\n",
      "Epoch 276/1000\n",
      "23/23 [==============================] - 0s 1ms/step - loss: 0.4131 - val_loss: 0.3792\n",
      "Epoch 277/1000\n",
      "23/23 [==============================] - 0s 1ms/step - loss: 0.4134 - val_loss: 0.3806\n",
      "Epoch 278/1000\n",
      "23/23 [==============================] - 0s 1ms/step - loss: 0.4128 - val_loss: 0.3781\n",
      "Epoch 279/1000\n",
      "23/23 [==============================] - 0s 1ms/step - loss: 0.4129 - val_loss: 0.3777\n",
      "Epoch 280/1000\n",
      "23/23 [==============================] - 0s 1ms/step - loss: 0.4124 - val_loss: 0.3798\n",
      "Epoch 281/1000\n",
      "23/23 [==============================] - 0s 1ms/step - loss: 0.4120 - val_loss: 0.3789\n",
      "Epoch 282/1000\n",
      "23/23 [==============================] - 0s 1ms/step - loss: 0.4121 - val_loss: 0.3783\n",
      "Epoch 283/1000\n",
      "23/23 [==============================] - 0s 1ms/step - loss: 0.4122 - val_loss: 0.3787\n",
      "Epoch 284/1000\n",
      "23/23 [==============================] - 0s 1ms/step - loss: 0.4120 - val_loss: 0.3800\n",
      "Epoch 285/1000\n",
      "23/23 [==============================] - 0s 1ms/step - loss: 0.4123 - val_loss: 0.3777\n",
      "Epoch 286/1000\n",
      "23/23 [==============================] - 0s 1ms/step - loss: 0.4120 - val_loss: 0.3816\n",
      "Epoch 287/1000\n",
      "23/23 [==============================] - 0s 1ms/step - loss: 0.4118 - val_loss: 0.3806\n",
      "Epoch 288/1000\n",
      "23/23 [==============================] - 0s 1ms/step - loss: 0.4118 - val_loss: 0.3773\n",
      "Epoch 289/1000\n",
      "23/23 [==============================] - 0s 1ms/step - loss: 0.4111 - val_loss: 0.3786\n",
      "Epoch 290/1000\n",
      "23/23 [==============================] - 0s 1ms/step - loss: 0.4112 - val_loss: 0.3790\n",
      "Epoch 291/1000\n",
      "23/23 [==============================] - 0s 1ms/step - loss: 0.4108 - val_loss: 0.3795\n",
      "Epoch 292/1000\n",
      "23/23 [==============================] - 0s 1ms/step - loss: 0.4110 - val_loss: 0.3798\n",
      "Epoch 293/1000\n",
      "23/23 [==============================] - 0s 1ms/step - loss: 0.4113 - val_loss: 0.3792\n",
      "Epoch 294/1000\n",
      "23/23 [==============================] - 0s 1ms/step - loss: 0.4106 - val_loss: 0.3768\n",
      "Epoch 295/1000\n",
      "23/23 [==============================] - 0s 1ms/step - loss: 0.4105 - val_loss: 0.3786\n",
      "Epoch 296/1000\n",
      "23/23 [==============================] - 0s 1ms/step - loss: 0.4099 - val_loss: 0.3772\n",
      "Epoch 297/1000\n",
      "23/23 [==============================] - 0s 1ms/step - loss: 0.4101 - val_loss: 0.3768\n",
      "Epoch 298/1000\n",
      "23/23 [==============================] - 0s 1ms/step - loss: 0.4110 - val_loss: 0.3765\n",
      "Epoch 299/1000\n",
      "23/23 [==============================] - 0s 1ms/step - loss: 0.4095 - val_loss: 0.3776\n",
      "Epoch 300/1000\n",
      "23/23 [==============================] - 0s 1ms/step - loss: 0.4097 - val_loss: 0.3801\n",
      "Epoch 301/1000\n",
      "23/23 [==============================] - 0s 1ms/step - loss: 0.4093 - val_loss: 0.3781\n",
      "Epoch 302/1000\n",
      "23/23 [==============================] - 0s 1ms/step - loss: 0.4092 - val_loss: 0.3790\n",
      "Epoch 303/1000\n",
      "23/23 [==============================] - 0s 1ms/step - loss: 0.4091 - val_loss: 0.3781\n",
      "Epoch 304/1000\n",
      "23/23 [==============================] - 0s 1ms/step - loss: 0.4132 - val_loss: 0.3796\n",
      "Epoch 305/1000\n",
      "23/23 [==============================] - 0s 1ms/step - loss: 0.4092 - val_loss: 0.3765\n",
      "Epoch 306/1000\n",
      "23/23 [==============================] - 0s 1ms/step - loss: 0.4095 - val_loss: 0.3769\n",
      "Epoch 307/1000\n",
      "23/23 [==============================] - 0s 1ms/step - loss: 0.4095 - val_loss: 0.3758\n",
      "Epoch 308/1000\n",
      "23/23 [==============================] - 0s 1ms/step - loss: 0.4087 - val_loss: 0.3766\n",
      "Epoch 309/1000\n",
      "23/23 [==============================] - 0s 1ms/step - loss: 0.4086 - val_loss: 0.3764\n",
      "Epoch 310/1000\n",
      "23/23 [==============================] - 0s 1ms/step - loss: 0.4084 - val_loss: 0.3770\n",
      "Epoch 311/1000\n",
      "23/23 [==============================] - 0s 1ms/step - loss: 0.4080 - val_loss: 0.3771\n",
      "Epoch 312/1000\n",
      "23/23 [==============================] - 0s 1ms/step - loss: 0.4080 - val_loss: 0.3770\n",
      "Epoch 313/1000\n",
      "23/23 [==============================] - 0s 1ms/step - loss: 0.4080 - val_loss: 0.3784\n",
      "Epoch 314/1000\n",
      "23/23 [==============================] - 0s 1ms/step - loss: 0.4078 - val_loss: 0.3771\n",
      "Epoch 315/1000\n",
      "23/23 [==============================] - 0s 1ms/step - loss: 0.4079 - val_loss: 0.3783\n",
      "Epoch 316/1000\n",
      "23/23 [==============================] - 0s 1ms/step - loss: 0.4081 - val_loss: 0.3792\n",
      "Epoch 317/1000\n",
      "23/23 [==============================] - 0s 1ms/step - loss: 0.4073 - val_loss: 0.3761\n",
      "Epoch 318/1000\n",
      "23/23 [==============================] - 0s 1ms/step - loss: 0.4072 - val_loss: 0.3751\n",
      "Epoch 319/1000\n",
      "23/23 [==============================] - 0s 1ms/step - loss: 0.4079 - val_loss: 0.3761\n",
      "Epoch 320/1000\n",
      "23/23 [==============================] - 0s 1ms/step - loss: 0.4077 - val_loss: 0.3759\n",
      "Epoch 321/1000\n",
      "23/23 [==============================] - 0s 1ms/step - loss: 0.4068 - val_loss: 0.3765\n",
      "Epoch 322/1000\n"
     ]
    },
    {
     "name": "stdout",
     "output_type": "stream",
     "text": [
      "23/23 [==============================] - 0s 1ms/step - loss: 0.4065 - val_loss: 0.3771\n",
      "Epoch 323/1000\n",
      "23/23 [==============================] - 0s 1ms/step - loss: 0.4069 - val_loss: 0.3744\n",
      "Epoch 324/1000\n",
      "23/23 [==============================] - 0s 1ms/step - loss: 0.4069 - val_loss: 0.3728\n",
      "Epoch 325/1000\n",
      "23/23 [==============================] - 0s 1ms/step - loss: 0.4065 - val_loss: 0.3740\n",
      "Epoch 326/1000\n",
      "23/23 [==============================] - 0s 1ms/step - loss: 0.4062 - val_loss: 0.3744\n",
      "Epoch 327/1000\n",
      "23/23 [==============================] - 0s 1ms/step - loss: 0.4055 - val_loss: 0.3748\n",
      "Epoch 328/1000\n",
      "23/23 [==============================] - 0s 1ms/step - loss: 0.4060 - val_loss: 0.3742\n",
      "Epoch 329/1000\n",
      "23/23 [==============================] - 0s 1ms/step - loss: 0.4056 - val_loss: 0.3749\n",
      "Epoch 330/1000\n",
      "23/23 [==============================] - 0s 1ms/step - loss: 0.4056 - val_loss: 0.3759\n",
      "Epoch 331/1000\n",
      "23/23 [==============================] - 0s 1ms/step - loss: 0.4060 - val_loss: 0.3756\n",
      "Epoch 332/1000\n",
      "23/23 [==============================] - 0s 1ms/step - loss: 0.4052 - val_loss: 0.3757\n",
      "Epoch 333/1000\n",
      "23/23 [==============================] - 0s 1ms/step - loss: 0.4052 - val_loss: 0.3739\n",
      "Epoch 334/1000\n",
      "23/23 [==============================] - 0s 1ms/step - loss: 0.4048 - val_loss: 0.3747\n",
      "Epoch 335/1000\n",
      "23/23 [==============================] - 0s 1ms/step - loss: 0.4051 - val_loss: 0.3760\n",
      "Epoch 336/1000\n",
      "23/23 [==============================] - 0s 1ms/step - loss: 0.4057 - val_loss: 0.3740\n",
      "Epoch 337/1000\n",
      "23/23 [==============================] - 0s 1ms/step - loss: 0.4045 - val_loss: 0.3729\n",
      "Epoch 338/1000\n",
      "23/23 [==============================] - 0s 1ms/step - loss: 0.4053 - val_loss: 0.3745\n",
      "Epoch 339/1000\n",
      "23/23 [==============================] - 0s 1ms/step - loss: 0.4046 - val_loss: 0.3744\n",
      "Epoch 340/1000\n",
      "23/23 [==============================] - 0s 1ms/step - loss: 0.4044 - val_loss: 0.3740\n",
      "Epoch 341/1000\n",
      "23/23 [==============================] - 0s 1ms/step - loss: 0.4055 - val_loss: 0.3771\n",
      "Epoch 342/1000\n",
      "23/23 [==============================] - 0s 1ms/step - loss: 0.4040 - val_loss: 0.3744\n",
      "Epoch 343/1000\n",
      "23/23 [==============================] - 0s 1ms/step - loss: 0.4036 - val_loss: 0.3744\n",
      "Epoch 344/1000\n",
      "23/23 [==============================] - 0s 1ms/step - loss: 0.4037 - val_loss: 0.3738\n",
      "Epoch 345/1000\n",
      "23/23 [==============================] - 0s 1ms/step - loss: 0.4038 - val_loss: 0.3735\n",
      "Epoch 346/1000\n",
      "23/23 [==============================] - 0s 1ms/step - loss: 0.4034 - val_loss: 0.3743\n",
      "Epoch 347/1000\n",
      "23/23 [==============================] - 0s 1ms/step - loss: 0.4042 - val_loss: 0.3747\n",
      "Epoch 348/1000\n",
      "23/23 [==============================] - 0s 1ms/step - loss: 0.4037 - val_loss: 0.3743\n",
      "Epoch 349/1000\n",
      "23/23 [==============================] - 0s 1ms/step - loss: 0.4035 - val_loss: 0.3734\n"
     ]
    },
    {
     "data": {
      "text/plain": [
       "<keras.callbacks.History at 0x24a82354d00>"
      ]
     },
     "execution_count": 12,
     "metadata": {},
     "output_type": "execute_result"
    }
   ],
   "source": [
    "#Fitting the model\n",
    "model_NN.fit(x=X_train, y=y_train, epochs=1000, validation_data=(X_test, y_test), callbacks=[early_stop])"
   ]
  },
  {
   "cell_type": "markdown",
   "id": "1a4b0b0f",
   "metadata": {},
   "source": [
    "### Plotting the loss metrics vs epoch history"
   ]
  },
  {
   "cell_type": "code",
   "execution_count": 13,
   "id": "25e92aca",
   "metadata": {},
   "outputs": [
    {
     "data": {
      "text/plain": [
       "<AxesSubplot:>"
      ]
     },
     "execution_count": 13,
     "metadata": {},
     "output_type": "execute_result"
    },
    {
     "data": {
      "image/png": "[encoded data removed]",
      "text/plain": [
       "<Figure size 432x288 with 1 Axes>"
      ]
     },
     "metadata": {
      "needs_background": "light"
     },
     "output_type": "display_data"
    }
   ],
   "source": [
    "loss_mol = pd.DataFrame(model_NN.history.history)\n",
    "loss_mol.plot()"
   ]
  },
  {
   "cell_type": "code",
   "execution_count": 14,
   "id": "2753d203",
   "metadata": {
    "scrolled": true
   },
   "outputs": [
    {
     "name": "stdout",
     "output_type": "stream",
     "text": [
      "1/1 [==============================] - 0s 61ms/step\n",
      "[[0.984075]]\n"
     ]
    }
   ],
   "source": [
    "#Checking the 1st train_set prediction (y = 0)\n",
    "print(model_NN.predict(X_train[0].reshape(1,10)))"
   ]
  },
  {
   "cell_type": "markdown",
   "id": "d7c68a58",
   "metadata": {},
   "source": [
    "### Obtaining the model results"
   ]
  },
  {
   "cell_type": "code",
   "execution_count": 15,
   "id": "3996aabf",
   "metadata": {
    "scrolled": true
   },
   "outputs": [
    {
     "name": "stdout",
     "output_type": "stream",
     "text": [
      "6/6 [==============================] - 0s 601us/step - loss: 0.3734\n",
      "0.3733925521373749\n",
      "23/23 [==============================] - 0s 591us/step - loss: 0.4022\n",
      "0.4021663963794708\n"
     ]
    }
   ],
   "source": [
    "print(model_NN.evaluate(X_test, y_test))\n",
    "print(model_NN.evaluate(X_train, y_train))"
   ]
  },
  {
   "cell_type": "code",
   "execution_count": 16,
   "id": "61c0d7d0",
   "metadata": {},
   "outputs": [
    {
     "name": "stdout",
     "output_type": "stream",
     "text": [
      "23/23 [==============================] - 0s 409us/step\n",
      "6/6 [==============================] - 0s 601us/step\n"
     ]
    }
   ],
   "source": [
    "#Obtaining the prediction for each set. Using function (pred_output) to unpack the result\n",
    "output_train = fm.pred_output(model_NN.predict(X_train))\n",
    "output_test = fm.pred_output(model_NN.predict(X_test))"
   ]
  },
  {
   "cell_type": "markdown",
   "id": "0c637a82",
   "metadata": {},
   "source": [
    "## Model Results"
   ]
  },
  {
   "cell_type": "code",
   "execution_count": 17,
   "id": "2f3cbd0c",
   "metadata": {},
   "outputs": [
    {
     "name": "stdout",
     "output_type": "stream",
     "text": [
      "Train Accuracy: 83.684951\n",
      "Test Accuracy: 83.146067\n"
     ]
    }
   ],
   "source": [
    "#Printing the model accuracy\n",
    "print('Train Accuracy: %f'%(np.mean(output_train == y_train) * 100))\n",
    "print('Test Accuracy: %f'%(np.mean(output_test == y_test) * 100))"
   ]
  },
  {
   "cell_type": "code",
   "execution_count": 18,
   "id": "1681e48f",
   "metadata": {},
   "outputs": [
    {
     "name": "stdout",
     "output_type": "stream",
     "text": [
      "error test:  0.169\n",
      "error train: 0.163\n"
     ]
    }
   ],
   "source": [
    "#Checking the model error (% of incorrect guesses) using function (eval_err)\n",
    "error_test = fm.eval_err(y_test, output_test)\n",
    "error_train = fm.eval_err(y_train, output_train)\n",
    "print(f\"error test:  {error_test :0.3f}\")\n",
    "print(f\"error train: {error_train :0.3f}\")"
   ]
  },
  {
   "cell_type": "code",
   "execution_count": 19,
   "id": "9ccd54ba",
   "metadata": {},
   "outputs": [
    {
     "name": "stdout",
     "output_type": "stream",
     "text": [
      "              precision    recall  f1-score   support\n",
      "\n",
      "           0       0.82      0.93      0.87       107\n",
      "           1       0.86      0.69      0.77        71\n",
      "\n",
      "    accuracy                           0.83       178\n",
      "   macro avg       0.84      0.81      0.82       178\n",
      "weighted avg       0.83      0.83      0.83       178\n",
      "\n",
      "[[99  8]\n",
      " [22 49]]\n"
     ]
    }
   ],
   "source": [
    "print(classification_report(y_test, output_test))\n",
    "print(confusion_matrix(y_test, output_test))"
   ]
  },
  {
   "cell_type": "markdown",
   "id": "eeaea362",
   "metadata": {},
   "source": [
    "### Saving model"
   ]
  },
  {
   "cell_type": "code",
   "execution_count": 20,
   "id": "a4800eee",
   "metadata": {
    "scrolled": true
   },
   "outputs": [
    {
     "name": "stdout",
     "output_type": "stream",
     "text": [
      "Model: \"model_NN\"\n",
      "_________________________________________________________________\n",
      " Layer (type)                Output Shape              Param #   \n",
      "=================================================================\n",
      " dense (Dense)               (None, 32)                352       \n",
      "                                                                 \n",
      " dense_1 (Dense)             (None, 16)                528       \n",
      "                                                                 \n",
      " dense_2 (Dense)             (None, 1)                 17        \n",
      "                                                                 \n",
      "=================================================================\n",
      "Total params: 897\n",
      "Trainable params: 897\n",
      "Non-trainable params: 0\n",
      "_________________________________________________________________\n"
     ]
    }
   ],
   "source": [
    "model_NN.summary()\n",
    "model_NN.save('Model_tf_NN.h5')"
   ]
  },
  {
   "cell_type": "markdown",
   "id": "7b011009",
   "metadata": {},
   "source": [
    "## Building a Deep NN\n",
    "##### Models must be identical\n",
    "Since the built model is a forward propagation one, the weights must be calculated beforehand"
   ]
  },
  {
   "cell_type": "code",
   "execution_count": 231,
   "id": "017a25b2",
   "metadata": {},
   "outputs": [],
   "source": [
    "#Create code that runs per layer:\n",
    "    #Every node uses its weights and np.dots(x, w) + b // Uses the result in the sigmoid function\n",
    "    #Each layer output is equal to the node prediction\n",
    "    #Layer input takes the last layer's output"
   ]
  },
  {
   "cell_type": "markdown",
   "id": "c16a07a2",
   "metadata": {},
   "source": [
    "### Getting the tf imported models layers weights"
   ]
  },
  {
   "cell_type": "code",
   "execution_count": 21,
   "id": "5140b873",
   "metadata": {},
   "outputs": [],
   "source": [
    "[l1, l2, l3] = model_NN.layers"
   ]
  },
  {
   "cell_type": "code",
   "execution_count": 22,
   "id": "24e9cd4b",
   "metadata": {},
   "outputs": [],
   "source": [
    "#Unpacking weights and biases\n",
    "W1_tmp, b1_tmp = l1.get_weights()\n",
    "W2_tmp, b2_tmp = l2.get_weights()\n",
    "W3_tmp, b3_tmp = l3.get_weights()"
   ]
  },
  {
   "cell_type": "code",
   "execution_count": 23,
   "id": "eaf9b1da",
   "metadata": {},
   "outputs": [
    {
     "name": "stdout",
     "output_type": "stream",
     "text": [
      "(10, 32)\n",
      "(32, 16)\n",
      "(16, 1)\n",
      "(711, 10)\n",
      "(178, 10)\n"
     ]
    }
   ],
   "source": [
    "#Just a shape visualization (every output == next input)\n",
    "print(W1_tmp.shape)\n",
    "print(W2_tmp.shape)\n",
    "print(W3_tmp.shape)\n",
    "print(X_train.shape)\n",
    "print(X_test.shape)"
   ]
  },
  {
   "cell_type": "markdown",
   "id": "d22a229b",
   "metadata": {},
   "source": [
    "### Layer function\n",
    "#### Takes the weights, biases, activation function (sigmoid) and calculates the prediction for each node\n",
    "Considering the input (initially the training data), the layer uses np.dot to multiple the respective input values for the weights, inserts in the activation function and returns the prediction for each node"
   ]
  },
  {
   "cell_type": "code",
   "execution_count": 24,
   "id": "326691a3",
   "metadata": {},
   "outputs": [],
   "source": [
    "def layers(a_in, W, b, g):\n",
    "    #Use the input a_in\n",
    "    units = W.shape[1]\n",
    "    a_out = np.zeros(units)\n",
    "    \n",
    "    for i in range(units):\n",
    "        #Activation function input\n",
    "        res = np.dot(W[:,i], a_in) + b[i]\n",
    "        a_out[i] = g(res)\n",
    "        \n",
    "    return a_out"
   ]
  },
  {
   "cell_type": "markdown",
   "id": "6d51a19d",
   "metadata": {},
   "source": [
    "### Sequential \n",
    "#### Creates the \"network\"\n",
    "Uses the layers function to get each layer output and propagate it to the next layer"
   ]
  },
  {
   "cell_type": "code",
   "execution_count": 25,
   "id": "7684e985",
   "metadata": {},
   "outputs": [],
   "source": [
    "def sequential(x, W1, b1, W2, b2, W3, b3, g):\n",
    "    #Initial input value is the training/test set\n",
    "    a1 = layers(x, W1, b1, g)\n",
    "    a2 = layers(a1, W2, b2, g)\n",
    "    a3 = layers(a2, W3, b3, g)\n",
    "    \n",
    "    return a3"
   ]
  },
  {
   "cell_type": "markdown",
   "id": "42ce31f7",
   "metadata": {},
   "source": [
    "### Runing the NN built model\n",
    "#####  Iterates over input items returning the prediction and setting the prediction to a 1/0 "
   ]
  },
  {
   "cell_type": "code",
   "execution_count": 26,
   "id": "64685435",
   "metadata": {},
   "outputs": [],
   "source": [
    "def run_nn_built(X, threshold):\n",
    "    ## Get No examples to run prediction\n",
    "    examples = X.shape[0]\n",
    "    prediction_nn_built = np.zeros(examples)\n",
    "    \n",
    "    for i in range(examples):\n",
    "        ## Iterate over all examples and add it to prediction\n",
    "        prob = sequential(X[i], W1_tmp, b1_tmp, W2_tmp, b2_tmp, W3_tmp, b3_tmp, g=fm.sigmoid)\n",
    "        \n",
    "        #Takes the prediction as a 1/0 output\n",
    "        if prob >= threshold:\n",
    "            prob = 1\n",
    "        else:\n",
    "            prob = 0\n",
    "            \n",
    "        prediction_nn_built[i] = prob\n",
    "        \n",
    "    return prediction_nn_built"
   ]
  },
  {
   "cell_type": "code",
   "execution_count": 27,
   "id": "5dcbb701",
   "metadata": {},
   "outputs": [],
   "source": [
    "#Runs model in bot sets\n",
    "pred_nn_built_train = run_nn_built(X_train, 0.5)\n",
    "pred_nn_built_test = run_nn_built(X_test, 0.5)"
   ]
  },
  {
   "cell_type": "markdown",
   "id": "71ea687a",
   "metadata": {},
   "source": [
    "## NN Built Model Results"
   ]
  },
  {
   "cell_type": "code",
   "execution_count": 28,
   "id": "ab7add5c",
   "metadata": {},
   "outputs": [
    {
     "name": "stdout",
     "output_type": "stream",
     "text": [
      "error test:  0.169\n",
      "error train: 0.163\n"
     ]
    }
   ],
   "source": [
    "#Error % in each set\n",
    "error_test = fm.eval_err(y_test, pred_nn_built_test)\n",
    "error_train = fm.eval_err(y_train, pred_nn_built_train)\n",
    "print(f\"error test:  {error_test :0.3f}\")\n",
    "print(f\"error train: {error_train :0.3f}\")"
   ]
  },
  {
   "cell_type": "code",
   "execution_count": 29,
   "id": "23527b4a",
   "metadata": {
    "scrolled": true
   },
   "outputs": [
    {
     "name": "stdout",
     "output_type": "stream",
     "text": [
      "Train Accuracy: 83.684951\n",
      "Test Accuracy: 83.146067\n"
     ]
    }
   ],
   "source": [
    "#Model accuracy per set\n",
    "print('Train Accuracy: %f'%(np.mean(pred_nn_built_train == y_train) * 100))\n",
    "print('Test Accuracy: %f'%(np.mean(pred_nn_built_test == y_test) * 100))"
   ]
  },
  {
   "cell_type": "code",
   "execution_count": 30,
   "id": "25e09920",
   "metadata": {
    "scrolled": false
   },
   "outputs": [
    {
     "name": "stdout",
     "output_type": "stream",
     "text": [
      "              precision    recall  f1-score   support\n",
      "\n",
      "           0       0.82      0.93      0.87       107\n",
      "           1       0.86      0.69      0.77        71\n",
      "\n",
      "    accuracy                           0.83       178\n",
      "   macro avg       0.84      0.81      0.82       178\n",
      "weighted avg       0.83      0.83      0.83       178\n",
      "\n",
      "[[99  8]\n",
      " [22 49]]\n"
     ]
    }
   ],
   "source": [
    "print(classification_report(y_test, pred_nn_built_test))\n",
    "print(confusion_matrix(y_test, pred_nn_built_test))"
   ]
  },
  {
   "cell_type": "markdown",
   "id": "c27387e6",
   "metadata": {},
   "source": [
    "## Improving the calculation time using matmul instead of np.dot()"
   ]
  },
  {
   "cell_type": "code",
   "execution_count": 31,
   "id": "32a952c2",
   "metadata": {},
   "outputs": [],
   "source": [
    "def layers_matmul(a_in, W, b, g):\n",
    "    #Use the input a_in\n",
    "    #Instead of a np.dot the z (activation function input) uses matmul to reduce the calculation demands\n",
    "    res = np.matmul(a_in, W) + b\n",
    "    a_out[i] = g(res)\n",
    "        \n",
    "    return a_out"
   ]
  },
  {
   "cell_type": "code",
   "execution_count": 32,
   "id": "9b6704e4",
   "metadata": {},
   "outputs": [],
   "source": [
    "def sequential_matmul(x, W1, b1, W2, b2, W3, b3, g):\n",
    "    #Same logic as the above, changes the function call only\n",
    "    a1 = layers_matmul(x, W1, b1, g)\n",
    "    a2 = layers_matmul(a1, W2, b2, g)\n",
    "    a3 = layers_matmul(a2, W3, b3, g)\n",
    "    \n",
    "    return a3"
   ]
  },
  {
   "cell_type": "code",
   "execution_count": 33,
   "id": "8a0f5edf",
   "metadata": {},
   "outputs": [],
   "source": [
    "def run_nn_built_matmul(X, threshold):\n",
    "    ## Get No examples to run prediction\n",
    "    examples = X.shape[0]\n",
    "    prediction_nn_built = np.zeros(examples)\n",
    "    \n",
    "    for i in range(examples):\n",
    "        ## Iterate over all examples and add it to prediction\n",
    "        prob = sequential_matmul(X[i], W1_tmp, b1_tmp, W2_tmp, b2_tmp, W3_tmp, b3_tmp, g=fm.sigmoid)\n",
    "        \n",
    "        if prob >= threshold:\n",
    "            prob = 1\n",
    "        else:\n",
    "            prob = 0\n",
    "            \n",
    "        prediction_nn_built[i] = prob\n",
    "        \n",
    "    return prediction_nn_built"
   ]
  },
  {
   "cell_type": "code",
   "execution_count": 34,
   "id": "12123bff",
   "metadata": {},
   "outputs": [],
   "source": [
    "pred_nn_built_train_matmul = run_nn_built(X_train, 0.5)\n",
    "pred_nn_built_test_matmul = run_nn_built(X_test, 0.5)"
   ]
  },
  {
   "cell_type": "markdown",
   "id": "f09f18dd",
   "metadata": {},
   "source": [
    "## NN Built Matmul Results"
   ]
  },
  {
   "cell_type": "code",
   "execution_count": 35,
   "id": "415490a1",
   "metadata": {
    "scrolled": true
   },
   "outputs": [
    {
     "name": "stdout",
     "output_type": "stream",
     "text": [
      "error test:  0.169\n",
      "error train: 0.163\n"
     ]
    }
   ],
   "source": [
    "error_test = fm.eval_err(y_test, pred_nn_built_test_matmul)\n",
    "error_train = fm.eval_err(y_train, pred_nn_built_train_matmul)\n",
    "print(f\"error test:  {error_test :0.3f}\")\n",
    "print(f\"error train: {error_train :0.3f}\")"
   ]
  },
  {
   "cell_type": "code",
   "execution_count": 36,
   "id": "9558e794",
   "metadata": {},
   "outputs": [
    {
     "name": "stdout",
     "output_type": "stream",
     "text": [
      "Test Accuracy: 83.146067\n",
      "Train Accuracy: 83.684951\n"
     ]
    }
   ],
   "source": [
    "print('Test Accuracy: %f'%(np.mean(pred_nn_built_test_matmul == y_test) * 100))\n",
    "print('Train Accuracy: %f'%(np.mean(pred_nn_built_train_matmul == y_train) * 100))"
   ]
  },
  {
   "cell_type": "code",
   "execution_count": 37,
   "id": "7feae30a",
   "metadata": {
    "scrolled": true
   },
   "outputs": [
    {
     "name": "stdout",
     "output_type": "stream",
     "text": [
      "              precision    recall  f1-score   support\n",
      "\n",
      "           0       0.82      0.93      0.87       107\n",
      "           1       0.86      0.69      0.77        71\n",
      "\n",
      "    accuracy                           0.83       178\n",
      "   macro avg       0.84      0.81      0.82       178\n",
      "weighted avg       0.83      0.83      0.83       178\n",
      "\n",
      "[[99  8]\n",
      " [22 49]]\n"
     ]
    }
   ],
   "source": [
    "print(classification_report(y_test, pred_nn_built_test_matmul))\n",
    "print(confusion_matrix(y_test, pred_nn_built_test_matmul))"
   ]
  }
 ],
 "metadata": {
  "kernelspec": {
   "display_name": "Python 3 (ipykernel)",
   "language": "python",
   "name": "python3"
  },
  "language_info": {
   "codemirror_mode": {
    "name": "ipython",
    "version": 3
   },
   "file_extension": ".py",
   "mimetype": "text/x-python",
   "name": "python",
   "nbconvert_exporter": "python",
   "pygments_lexer": "ipython3",
   "version": "3.9.7"
  }
 },
 "nbformat": 4,
 "nbformat_minor": 5
}
