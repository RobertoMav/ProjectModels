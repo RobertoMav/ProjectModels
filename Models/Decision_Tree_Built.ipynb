{
 "cells": [
  {
   "cell_type": "markdown",
   "id": "85ab92cf",
   "metadata": {},
   "source": [
    "## Building a Decision Tree Classifier"
   ]
  },
  {
   "cell_type": "code",
   "execution_count": 1,
   "id": "b1aef687",
   "metadata": {},
   "outputs": [],
   "source": [
    "import pandas as pd\n",
    "import numpy as np\n",
    "import matplotlib.pyplot as plt\n",
    "import seaborn as sns\n",
    "import math\n",
    "from sklearn.model_selection import train_test_split\n",
    "%matplotlib inline"
   ]
  },
  {
   "cell_type": "code",
   "execution_count": 2,
   "id": "c48d28ef",
   "metadata": {
    "scrolled": false
   },
   "outputs": [
    {
     "data": {
      "text/html": [
       "<div>\n",
       "<style scoped>\n",
       "    .dataframe tbody tr th:only-of-type {\n",
       "        vertical-align: middle;\n",
       "    }\n",
       "\n",
       "    .dataframe tbody tr th {\n",
       "        vertical-align: top;\n",
       "    }\n",
       "\n",
       "    .dataframe thead th {\n",
       "        text-align: right;\n",
       "    }\n",
       "</style>\n",
       "<table border=\"1\" class=\"dataframe\">\n",
       "  <thead>\n",
       "    <tr style=\"text-align: right;\">\n",
       "      <th></th>\n",
       "      <th>Survived</th>\n",
       "      <th>Sex</th>\n",
       "      <th>Q</th>\n",
       "      <th>S</th>\n",
       "      <th>SibPar</th>\n",
       "      <th>Parch_1</th>\n",
       "      <th>Parch_2</th>\n",
       "      <th>Parch_3</th>\n",
       "      <th>Parch_4</th>\n",
       "      <th>Parch_5</th>\n",
       "      <th>...</th>\n",
       "      <th>Age_Fare_1050.0</th>\n",
       "      <th>Age_Fare_1200.0</th>\n",
       "      <th>Age_Fare_1350.0</th>\n",
       "      <th>Age_Fare_1500.0</th>\n",
       "      <th>Age_Fare_1650.0</th>\n",
       "      <th>Age_Fare_1800.0</th>\n",
       "      <th>Age_Fare_1950.0</th>\n",
       "      <th>Age_Fare_2100.0</th>\n",
       "      <th>Age_Fare_2250.0</th>\n",
       "      <th>Age_Fare_2400.0</th>\n",
       "    </tr>\n",
       "  </thead>\n",
       "  <tbody>\n",
       "    <tr>\n",
       "      <th>0</th>\n",
       "      <td>0</td>\n",
       "      <td>1</td>\n",
       "      <td>0</td>\n",
       "      <td>1</td>\n",
       "      <td>1</td>\n",
       "      <td>0</td>\n",
       "      <td>0</td>\n",
       "      <td>0</td>\n",
       "      <td>0</td>\n",
       "      <td>0</td>\n",
       "      <td>...</td>\n",
       "      <td>0</td>\n",
       "      <td>0</td>\n",
       "      <td>0</td>\n",
       "      <td>0</td>\n",
       "      <td>0</td>\n",
       "      <td>0</td>\n",
       "      <td>0</td>\n",
       "      <td>0</td>\n",
       "      <td>0</td>\n",
       "      <td>0</td>\n",
       "    </tr>\n",
       "    <tr>\n",
       "      <th>1</th>\n",
       "      <td>1</td>\n",
       "      <td>0</td>\n",
       "      <td>0</td>\n",
       "      <td>0</td>\n",
       "      <td>1</td>\n",
       "      <td>0</td>\n",
       "      <td>0</td>\n",
       "      <td>0</td>\n",
       "      <td>0</td>\n",
       "      <td>0</td>\n",
       "      <td>...</td>\n",
       "      <td>0</td>\n",
       "      <td>0</td>\n",
       "      <td>0</td>\n",
       "      <td>0</td>\n",
       "      <td>0</td>\n",
       "      <td>0</td>\n",
       "      <td>0</td>\n",
       "      <td>0</td>\n",
       "      <td>0</td>\n",
       "      <td>0</td>\n",
       "    </tr>\n",
       "    <tr>\n",
       "      <th>2</th>\n",
       "      <td>1</td>\n",
       "      <td>0</td>\n",
       "      <td>0</td>\n",
       "      <td>1</td>\n",
       "      <td>0</td>\n",
       "      <td>0</td>\n",
       "      <td>0</td>\n",
       "      <td>0</td>\n",
       "      <td>0</td>\n",
       "      <td>0</td>\n",
       "      <td>...</td>\n",
       "      <td>0</td>\n",
       "      <td>0</td>\n",
       "      <td>0</td>\n",
       "      <td>0</td>\n",
       "      <td>0</td>\n",
       "      <td>0</td>\n",
       "      <td>0</td>\n",
       "      <td>0</td>\n",
       "      <td>0</td>\n",
       "      <td>0</td>\n",
       "    </tr>\n",
       "    <tr>\n",
       "      <th>3</th>\n",
       "      <td>1</td>\n",
       "      <td>0</td>\n",
       "      <td>0</td>\n",
       "      <td>1</td>\n",
       "      <td>1</td>\n",
       "      <td>0</td>\n",
       "      <td>0</td>\n",
       "      <td>0</td>\n",
       "      <td>0</td>\n",
       "      <td>0</td>\n",
       "      <td>...</td>\n",
       "      <td>0</td>\n",
       "      <td>0</td>\n",
       "      <td>0</td>\n",
       "      <td>0</td>\n",
       "      <td>0</td>\n",
       "      <td>1</td>\n",
       "      <td>0</td>\n",
       "      <td>0</td>\n",
       "      <td>0</td>\n",
       "      <td>0</td>\n",
       "    </tr>\n",
       "    <tr>\n",
       "      <th>4</th>\n",
       "      <td>0</td>\n",
       "      <td>1</td>\n",
       "      <td>0</td>\n",
       "      <td>1</td>\n",
       "      <td>0</td>\n",
       "      <td>0</td>\n",
       "      <td>0</td>\n",
       "      <td>0</td>\n",
       "      <td>0</td>\n",
       "      <td>0</td>\n",
       "      <td>...</td>\n",
       "      <td>0</td>\n",
       "      <td>0</td>\n",
       "      <td>0</td>\n",
       "      <td>0</td>\n",
       "      <td>0</td>\n",
       "      <td>0</td>\n",
       "      <td>0</td>\n",
       "      <td>0</td>\n",
       "      <td>0</td>\n",
       "      <td>0</td>\n",
       "    </tr>\n",
       "  </tbody>\n",
       "</table>\n",
       "<p>5 rows × 70 columns</p>\n",
       "</div>"
      ],
      "text/plain": [
       "   Survived  Sex  Q  S  SibPar  Parch_1  Parch_2  Parch_3  Parch_4  Parch_5  \\\n",
       "0         0    1  0  1       1        0        0        0        0        0   \n",
       "1         1    0  0  0       1        0        0        0        0        0   \n",
       "2         1    0  0  1       0        0        0        0        0        0   \n",
       "3         1    0  0  1       1        0        0        0        0        0   \n",
       "4         0    1  0  1       0        0        0        0        0        0   \n",
       "\n",
       "   ...  Age_Fare_1050.0  Age_Fare_1200.0  Age_Fare_1350.0  Age_Fare_1500.0  \\\n",
       "0  ...                0                0                0                0   \n",
       "1  ...                0                0                0                0   \n",
       "2  ...                0                0                0                0   \n",
       "3  ...                0                0                0                0   \n",
       "4  ...                0                0                0                0   \n",
       "\n",
       "   Age_Fare_1650.0  Age_Fare_1800.0  Age_Fare_1950.0  Age_Fare_2100.0  \\\n",
       "0                0                0                0                0   \n",
       "1                0                0                0                0   \n",
       "2                0                0                0                0   \n",
       "3                0                1                0                0   \n",
       "4                0                0                0                0   \n",
       "\n",
       "   Age_Fare_2250.0  Age_Fare_2400.0  \n",
       "0                0                0  \n",
       "1                0                0  \n",
       "2                0                0  \n",
       "3                0                0  \n",
       "4                0                0  \n",
       "\n",
       "[5 rows x 70 columns]"
      ]
     },
     "execution_count": 2,
     "metadata": {},
     "output_type": "execute_result"
    }
   ],
   "source": [
    "train_set_2 = pd.read_csv(\"../TrainTestSet/TrainSet2.csv\")\n",
    "train_set_2.head()"
   ]
  },
  {
   "cell_type": "markdown",
   "id": "e38b1781",
   "metadata": {},
   "source": [
    "### Creating x_train, y_train set"
   ]
  },
  {
   "cell_type": "code",
   "execution_count": 3,
   "id": "1ec5c8e1",
   "metadata": {},
   "outputs": [],
   "source": [
    "y = train_set_2['Survived']\n",
    "x = train_set_2.drop(['Survived'], axis=1)"
   ]
  },
  {
   "cell_type": "code",
   "execution_count": 4,
   "id": "e42fc025",
   "metadata": {},
   "outputs": [],
   "source": [
    "X_train_2, X_test_2, y_train_2, y_test_2 = train_test_split(x, y, test_size=0.2, random_state=101)"
   ]
  },
  {
   "cell_type": "code",
   "execution_count": 5,
   "id": "6f14ff75",
   "metadata": {},
   "outputs": [],
   "source": [
    "X_train_2 = X_train_2.to_numpy()\n",
    "y_train_2 = y_train_2.to_numpy()"
   ]
  },
  {
   "cell_type": "code",
   "execution_count": 20,
   "id": "9ba65f1d",
   "metadata": {},
   "outputs": [],
   "source": [
    "## Calculate entropy at y"
   ]
  },
  {
   "cell_type": "code",
   "execution_count": 6,
   "id": "c4a42480",
   "metadata": {},
   "outputs": [],
   "source": [
    "def calculate_entropy(y):\n",
    "    \n",
    "    m = len(y)\n",
    "    entropy = 0.\n",
    "    p1 = 0\n",
    "    ## Size must be bigger than 0\n",
    "    if m <= 0:\n",
    "        return entropy\n",
    "    # Iterate over examples to get p1 (ratio of elements that are positive == 1)\n",
    "    for i in range(m):\n",
    "        if y[i] == 1:\n",
    "            p1 += 1\n",
    "    ## Getting p1 and, by consequence, p2\n",
    "    p1 = p1 / m\n",
    "    p2 = 1 - p1\n",
    "    \n",
    "    if p1 == 1 or p1 == 0:\n",
    "        return entropy\n",
    "    else:\n",
    "        #Calculating entropy when p1 is not 0 or 1 (because of log2(0))\n",
    "        entropy = (-p1* np.log2(p1)) - (p2 * np.log2(p2))\n",
    "        \n",
    "        return entropy"
   ]
  },
  {
   "cell_type": "code",
   "execution_count": 7,
   "id": "7b4c0f37",
   "metadata": {
    "scrolled": true
   },
   "outputs": [
    {
     "data": {
      "text/plain": [
       "0.9568614362878476"
      ]
     },
     "execution_count": 7,
     "metadata": {},
     "output_type": "execute_result"
    }
   ],
   "source": [
    "calculate_entropy(y_train_2)"
   ]
  },
  {
   "cell_type": "code",
   "execution_count": 204,
   "id": "a6ed998f",
   "metadata": {},
   "outputs": [],
   "source": [
    "#Splitting dataset - using current data to split between left and right branches"
   ]
  },
  {
   "cell_type": "code",
   "execution_count": 8,
   "id": "b5486793",
   "metadata": {},
   "outputs": [],
   "source": [
    "def split_data(X, feature, root_index):\n",
    "    \n",
    "    m = X.shape[0]\n",
    "    left_branch = []\n",
    "    right_branch = []\n",
    "    \n",
    "    for i in range(m):\n",
    "        #for each example, divides between left and right branch\n",
    "        if X[i][feature] == 1:\n",
    "            left_branch.append(i)\n",
    "        else:\n",
    "            right_branch.append(i)\n",
    "            \n",
    "    return left_branch, right_branch"
   ]
  },
  {
   "cell_type": "code",
   "execution_count": 9,
   "id": "59fb03f8",
   "metadata": {},
   "outputs": [],
   "source": [
    "#Creates root_index\n",
    "root_index = np.arange(0, X_train_2.shape[0])"
   ]
  },
  {
   "cell_type": "markdown",
   "id": "42fc4b7e",
   "metadata": {},
   "source": [
    "### Calculates information gain"
   ]
  },
  {
   "cell_type": "code",
   "execution_count": 10,
   "id": "c3f8cdf8",
   "metadata": {},
   "outputs": [],
   "source": [
    "def info_gain(X, y, feature, node_indices):\n",
    "    \n",
    "    info_gain = 0.\n",
    "    #splits data\n",
    "    left, right = split_data(X, feature, node_indices)\n",
    "    \n",
    "    #calculates entropy at branches and root_node\n",
    "    p1_entr = calculate_entropy(y[node_indices])\n",
    "    left_entr = calculate_entropy(y[left])\n",
    "    right_entr = calculate_entropy(y[right])\n",
    "    \n",
    "    #Calculates weight for the branches\n",
    "    weight_lef = len(left)/ (len(right) + len(left))\n",
    "    weight_ri = 1 - weight_lef\n",
    "    \n",
    "    info_gain = p1_entr - (weight_lef * left_entr + right_entr * weight_ri)\n",
    "    \n",
    "    return info_gain"
   ]
  },
  {
   "cell_type": "code",
   "execution_count": 11,
   "id": "90b3275e",
   "metadata": {},
   "outputs": [
    {
     "data": {
      "text/plain": [
       "0.21578252669945786"
      ]
     },
     "execution_count": 11,
     "metadata": {},
     "output_type": "execute_result"
    }
   ],
   "source": [
    "info_gain(X_train_2, y_train_2, 0, root_index)"
   ]
  },
  {
   "cell_type": "markdown",
   "id": "1d015826",
   "metadata": {},
   "source": [
    "### Considering the best infromation gain, calculates the best feature to split"
   ]
  },
  {
   "cell_type": "code",
   "execution_count": 12,
   "id": "1c6a4c98",
   "metadata": {},
   "outputs": [],
   "source": [
    "def best_split(X, y, node_indices):\n",
    "    m, n = X.shape\n",
    "    \n",
    "    best_feature = -1\n",
    "    aux = 0\n",
    "    gain_hist = []\n",
    "    \n",
    "    for i in range(n):\n",
    "        gain = info_gain(X, y, i, node_indices)\n",
    "        gain_hist.append(gain)\n",
    "        if gain > aux:\n",
    "            best_feature = i\n",
    "            aux = gain\n",
    "    \n",
    "    return best_feature, gain_hist"
   ]
  },
  {
   "cell_type": "code",
   "execution_count": 13,
   "id": "c358c3bc",
   "metadata": {
    "scrolled": true
   },
   "outputs": [
    {
     "name": "stdout",
     "output_type": "stream",
     "text": [
      "0\n"
     ]
    },
    {
     "data": {
      "text/plain": [
       "[<matplotlib.lines.Line2D at 0x2a39eeb45b0>]"
      ]
     },
     "execution_count": 13,
     "metadata": {},
     "output_type": "execute_result"
    },
    {
     "data": {
      "image/png": "[encoded data removed]",
      "text/plain": [
       "<Figure size 432x288 with 1 Axes>"
      ]
     },
     "metadata": {
      "needs_background": "light"
     },
     "output_type": "display_data"
    }
   ],
   "source": [
    "best_feature, gain_hist = best_split(X_train_2, y_train_2, root_index)\n",
    "print(best_feature)\n",
    "plt.plot(gain_hist)"
   ]
  },
  {
   "cell_type": "markdown",
   "id": "e48dba92",
   "metadata": {},
   "source": [
    "### Builds a recursive Decision tree"
   ]
  },
  {
   "cell_type": "code",
   "execution_count": 14,
   "id": "fa4ce575",
   "metadata": {},
   "outputs": [],
   "source": [
    "tree = []\n",
    "\n",
    "def build_tree_rec(X, y, node_indices, max_depth, current_depth, b_name):\n",
    "    #Checks if the current branch is max\n",
    "    if current_depth == max_depth:\n",
    "        formatting = \" \"*current_depth + \"-\"*current_depth\n",
    "        print(formatting, \"%s leaf node with indices\" % b_name, node_indices[:3])\n",
    "        return\n",
    "    \n",
    "    #if not, get best feature to split\n",
    "    bf, gh = best_split(X, y, node_indices)\n",
    "    \n",
    "    #append to the tree list\n",
    "    tree.append((current_depth, b_name, bf, node_indices))\n",
    "    \n",
    "    #just prints info\n",
    "    formatting = \"-\"*current_depth\n",
    "    print(\"%s Depth %d, %s: Split on feature: %d\" % (formatting, current_depth, b_name, best_feature))\n",
    "    \n",
    "    #splits data with the best feature\n",
    "    left, right = split_data(X, bf, node_indices)\n",
    "    \n",
    "    #recursively calls the function\n",
    "    build_tree_rec(X, y, left, max_depth, current_depth+1, \"Left\")\n",
    "    build_tree_rec(X, y, right, max_depth, current_depth+1, \"Right\")\n",
    "    "
   ]
  },
  {
   "cell_type": "markdown",
   "id": "636e299d",
   "metadata": {},
   "source": [
    "### Running Decision Tree Classifier"
   ]
  },
  {
   "cell_type": "code",
   "execution_count": 15,
   "id": "950c205c",
   "metadata": {
    "scrolled": true
   },
   "outputs": [
    {
     "name": "stdout",
     "output_type": "stream",
     "text": [
      " Depth 0, Root: Split on feature: 0\n",
      "- Depth 1, Left: Split on feature: 0\n",
      "  -- Left leaf node with indices [41, 271, 324]\n",
      "  -- Right leaf node with indices [0, 1, 2]\n",
      "- Depth 1, Right: Split on feature: 0\n",
      "  -- Left leaf node with indices [3, 4, 6]\n",
      "  -- Right leaf node with indices [0, 1, 2]\n"
     ]
    }
   ],
   "source": [
    "build_tree_rec(X_train_2, y_train_2, root_index, 2, 0, \"Root\")"
   ]
  },
  {
   "cell_type": "code",
   "execution_count": 16,
   "id": "281bb749",
   "metadata": {},
   "outputs": [],
   "source": [
    "def check_inc(y, yhat):\n",
    "    correct = 0\n",
    "    m = len(yhat)\n",
    "    for i in range(m):\n",
    "        if y[i] == 1:\n",
    "            correct += 1\n",
    "    \n",
    "    correct = correct / m\n",
    "        \n",
    "    return correct"
   ]
  },
  {
   "cell_type": "code",
   "execution_count": 17,
   "id": "2b515bf8",
   "metadata": {
    "scrolled": false
   },
   "outputs": [
    {
     "name": "stdout",
     "output_type": "stream",
     "text": [
      "37.719298245614034\n",
      "38.03921568627451\n"
     ]
    }
   ],
   "source": [
    "print(check_inc(y_train_2, tree[1][3])*100)\n",
    "print(check_inc(y_train_2, tree[2][3])*100)"
   ]
  }
 ],
 "metadata": {
  "kernelspec": {
   "display_name": "Python 3 (ipykernel)",
   "language": "python",
   "name": "python3"
  },
  "language_info": {
   "codemirror_mode": {
    "name": "ipython",
    "version": 3
   },
   "file_extension": ".py",
   "mimetype": "text/x-python",
   "name": "python",
   "nbconvert_exporter": "python",
   "pygments_lexer": "ipython3",
   "version": "3.9.7"
  }
 },
 "nbformat": 4,
 "nbformat_minor": 5
}
